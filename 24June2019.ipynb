{
 "cells": [
  {
   "cell_type": "code",
   "execution_count": 1,
   "metadata": {},
   "outputs": [
    {
     "name": "stdout",
     "output_type": "stream",
     "text": [
      "Frequency of Data is : 3\n",
      "Frequency of in is : 3\n",
      "Frequency of Line is : 3\n",
      "Frequency of 1 is : 1\n",
      "Frequency of 2 is : 1\n",
      "Frequency of 3 is : 1\n"
     ]
    }
   ],
   "source": [
    "# Function to print the frequency count of a text file\n",
    "# Data in Line 1\n",
    "# Data in Line 2\n",
    "# Data in Line 3\n",
    "# o/p\n",
    "# Data : 3\n",
    "# in : 3\n",
    "# Line : 3\n",
    "# 1: 1\n",
    "# 2 : 1\n",
    "# 3 : 1\n",
    "def frequencyCount(filepath):\n",
    "    l = []\n",
    "    ul = []\n",
    "    count = 0\n",
    "    with open (filepath,'r') as f:\n",
    "        filedata = f.read()\n",
    "        l = filedata.split()\n",
    "        for i in l:\n",
    "            if i not in ul:\n",
    "                ul.append(i)  \n",
    "        for i in range(0, len(ul)):\n",
    "            print('Frequency of', ul[i], 'is :', l.count(ul[i]))     \n",
    "filepath = 'DataFiles/data.txt'\n",
    "frequencyCount(filepath)"
   ]
  },
  {
   "cell_type": "code",
   "execution_count": 2,
   "metadata": {},
   "outputs": [
    {
     "name": "stdout",
     "output_type": "stream",
     "text": [
      "234365475432\n",
      "0 0 2 3 3 2 1 1 0 0 "
     ]
    }
   ],
   "source": [
    "s1 = input()\n",
    "for i in range (0,10):\n",
    "    print(s1.count(str(i)),end = \" \")\n",
    "    "
   ]
  },
  {
   "cell_type": "code",
   "execution_count": 16,
   "metadata": {},
   "outputs": [
    {
     "name": "stdout",
     "output_type": "stream",
     "text": [
      "32445trgth\n"
     ]
    }
   ],
   "source": [
    "#s =123ffgfbg45675\n",
    "s1 = input().split()\n",
    "li = []\n",
    "for i in s1:\n",
    "    if i.isdigit():\n",
    "        li.append(i)\n",
    "    \n",
    "        \n",
    " "
   ]
  },
  {
   "cell_type": "code",
   "execution_count": 23,
   "metadata": {},
   "outputs": [
    {
     "name": "stdout",
     "output_type": "stream",
     "text": [
      "0 0 0 2 3 2 2 1 0 0 "
     ]
    }
   ],
   "source": [
    "def uniqueData(allNumbers):\n",
    "    unique = []\n",
    "    for n in allNumbers:\n",
    "        if n not in unique:\n",
    "            unique.append(n)\n",
    "    return unique\n",
    "def digitFrequency1(s):\n",
    "    allNumbers = []\n",
    "    for i in s:\n",
    "        if i.isdigit():\n",
    "            allNumbers.append(i)\n",
    "    unique = uniqueData(allNumbers)\n",
    "    for i in range(0, 10):\n",
    "        if str(i) not in unique:\n",
    "            print(0, end =\" \")\n",
    "        else:\n",
    "            count = allNumbers.count(str(i))\n",
    "            print(count, end = ' ')\n",
    "\n",
    "digitFrequency1('34546fghjgd34567')\n",
    "    \n",
    "    \n",
    "\n",
    "    "
   ]
  },
  {
   "cell_type": "code",
   "execution_count": 4,
   "metadata": {},
   "outputs": [
    {
     "name": "stdout",
     "output_type": "stream",
     "text": [
      "1.0\n"
     ]
    }
   ],
   "source": [
    "# function to generte  marks data for n students\n",
    "from random import randint\n",
    "def generateMarks(n, lb, ub):\n",
    "    with open('DataFiles/marks.txt','w') as f:\n",
    "        for i in range(0, n):\n",
    "            r = randint(lb, ub)\n",
    "            f.write(str(r)+'\\n')\n",
    "        return\n",
    "    \n",
    "    \n",
    "generateMarks(3, 0, 100)\n",
    "def classAverage(n):\n",
    "    sum = 0\n",
    "    Average = 0\n",
    "    with open('DataFiles/marks.txt','r') as f:\n",
    "            for i in range(0, n):\n",
    "                sum = sum+i\n",
    "            Average = sum / n\n",
    "    print(Average)\n",
    "classAverage(3)\n",
    "            "
   ]
  },
  {
   "cell_type": "code",
   "execution_count": null,
   "metadata": {},
   "outputs": [],
   "source": []
  },
  {
   "cell_type": "code",
   "execution_count": null,
   "metadata": {},
   "outputs": [],
   "source": []
  }
 ],
 "metadata": {
  "kernelspec": {
   "display_name": "Python 3",
   "language": "python",
   "name": "python3"
  },
  "language_info": {
   "codemirror_mode": {
    "name": "ipython",
    "version": 3
   },
   "file_extension": ".py",
   "mimetype": "text/x-python",
   "name": "python",
   "nbconvert_exporter": "python",
   "pygments_lexer": "ipython3",
   "version": "3.7.3"
  }
 },
 "nbformat": 4,
 "nbformat_minor": 2
}
