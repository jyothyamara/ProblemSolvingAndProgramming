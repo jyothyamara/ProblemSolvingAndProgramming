{
 "cells": [
  {
   "cell_type": "markdown",
   "metadata": {},
   "source": [
    "## Problem solving and programming in python- day 4\n",
    "## date 14 june 2019"
   ]
  },
  {
   "cell_type": "code",
   "execution_count": null,
   "metadata": {},
   "outputs": [],
   "source": []
  },
  {
   "cell_type": "markdown",
   "metadata": {},
   "source": [
    "### Python Data Structurs\n",
    "\n",
    "#### List"
   ]
  },
  {
   "cell_type": "code",
   "execution_count": 45,
   "metadata": {},
   "outputs": [
    {
     "ename": "NameError",
     "evalue": "name 'mul' is not defined",
     "output_type": "error",
     "traceback": [
      "\u001b[1;31m---------------------------------------------------------------------------\u001b[0m",
      "\u001b[1;31mNameError\u001b[0m                                 Traceback (most recent call last)",
      "\u001b[1;32m<ipython-input-45-6bdb3744a637>\u001b[0m in \u001b[0;36m<module>\u001b[1;34m\u001b[0m\n\u001b[0;32m     10\u001b[0m \u001b[0mli\u001b[0m\u001b[1;33m[\u001b[0m\u001b[1;33m:\u001b[0m\u001b[1;33m:\u001b[0m\u001b[1;36m2\u001b[0m\u001b[1;33m]\u001b[0m\u001b[1;31m# accesing even index element\u001b[0m\u001b[1;33m\u001b[0m\u001b[1;33m\u001b[0m\u001b[0m\n\u001b[0;32m     11\u001b[0m \u001b[0mli\u001b[0m\u001b[1;33m[\u001b[0m\u001b[1;36m1\u001b[0m\u001b[1;33m:\u001b[0m\u001b[1;33m:\u001b[0m\u001b[1;36m2\u001b[0m\u001b[1;33m]\u001b[0m\u001b[1;33m\u001b[0m\u001b[1;33m\u001b[0m\u001b[0m\n\u001b[1;32m---> 12\u001b[1;33m \u001b[0mmul\u001b[0m\u001b[1;33m(\u001b[0m\u001b[0mli\u001b[0m\u001b[1;33m)\u001b[0m\u001b[1;33m\u001b[0m\u001b[1;33m\u001b[0m\u001b[0m\n\u001b[0m",
      "\u001b[1;31mNameError\u001b[0m: name 'mul' is not defined"
     ]
    }
   ],
   "source": [
    "li = [123, 978, 654]\n",
    "li # acess the entire list\n",
    "li[1] # Acess an element with index in a list\n",
    "li[1:]# All elements Second to last element\n",
    "li[2:]\n",
    "li = li[::-1]# reversing list elements\n",
    "li\n",
    "li = li[::-1]\n",
    "li\n",
    "li[::2]# accesing even index element\n",
    "li[1::2]\n"
   ]
  },
  {
   "cell_type": "code",
   "execution_count": 19,
   "metadata": {},
   "outputs": [
    {
     "name": "stdout",
     "output_type": "stream",
     "text": [
      "[12, 234, 234, 234, 234, 234, 234, 234, 234, 345, 345, 345, 345, 345, 345, 345, 345, 456, 456, 456, 456, 456, 456, 456, 456, 234, 456, 789]\n"
     ]
    },
    {
     "data": {
      "text/plain": [
       "368.7857142857143"
      ]
     },
     "execution_count": 19,
     "metadata": {},
     "output_type": "execute_result"
    }
   ],
   "source": [
    "# lists can be accessed, manipulated in two diffenerent ways\n",
    "    #Direct Referncing - Accesing through square brackect index  - []\n",
    "    #Indirect Referncing - through Functions\n",
    "    \n",
    "li.append(345)\n",
    "li.insert(1, 234)# Adding an element  at a particular index\n",
    "li.sort() # Sort  elements in accesending order\n",
    "li.pop() # Remove the last element\n",
    "li.pop(1)\n",
    "li2 = [234,456,789]\n",
    "li.extend(li2)\n",
    "li\n",
    "sum(li) # Sum of all elements in a list\n",
    "max(li) # Maximum element in a list\n",
    "len(li) # Number of elements in a list\n",
    "print(li)\n",
    "\n",
    "\n",
    "sum(li)/len(li)  # Average of list elements\n",
    "sum(li[1::2])/len(li[1::2]) # Average of all alternate list elements\n"
   ]
  },
  {
   "cell_type": "code",
   "execution_count": 23,
   "metadata": {},
   "outputs": [
    {
     "data": {
      "text/plain": [
       "456"
      ]
     },
     "execution_count": 23,
     "metadata": {},
     "output_type": "execute_result"
    }
   ],
   "source": [
    "# Function to identify the Second largest element in a list\n",
    "def SecondLargest(li):\n",
    "    li.sort()\n",
    "    return li[-2]\n",
    "SecondLargest(li)\n",
    "# Function that returns the nth largest\n",
    "def genericLargest(li,n):\n",
    "    li.sort()\n",
    "    return li[-n]\n",
    "genericLargest(li,4)\n",
    "\n",
    "\n",
    " \n",
    "    \n",
    "    \n",
    "    \n",
    "    \n",
    "\n",
    "    "
   ]
  },
  {
   "cell_type": "code",
   "execution_count": 24,
   "metadata": {},
   "outputs": [
    {
     "name": "stdout",
     "output_type": "stream",
     "text": [
      "[12, 234, 234, 234, 234, 234, 234, 234, 234, 234, 345, 345, 345, 345, 345, 345, 345, 345, 456, 456, 456, 456, 456, 456, 456, 456, 456, 789]\n"
     ]
    }
   ],
   "source": [
    "print(li)"
   ]
  },
  {
   "cell_type": "code",
   "execution_count": 35,
   "metadata": {},
   "outputs": [
    {
     "name": "stdout",
     "output_type": "stream",
     "text": [
      "[12, 234, 234, 234, 234, 234, 234, 234, 234, 234, 345, 345, 345, 345, 345, 345, 345, 345, 456, 456, 456, 456, 456, 456, 456, 456, 456, 789]\n"
     ]
    }
   ],
   "source": [
    "# Function to search for data in a list\n",
    "# search for the key in the list and return the index of the key\n",
    "def linearSearch(li, key):\n",
    "    for value in range(len(li)):\n",
    "        if li[value] == key:\n",
    "            return value\n",
    "    return -1\n",
    "\n",
    "def linearSearch2(li, key):\n",
    "    for element in li:\n",
    "        if element == key:\n",
    "            return li.index(element)\n",
    "    return -1\n",
    "linearSearch2(li, 234)\n",
    "\n",
    "def linearSearch3(li, key):\n",
    "    if key in li:\n",
    "        return li.index(key)\n",
    "    return -1\n",
    "linearSearch3(li, 789)\n",
    "print(li)\n",
    "     \n",
    "\n",
    "\n",
    "    "
   ]
  },
  {
   "cell_type": "code",
   "execution_count": 43,
   "metadata": {},
   "outputs": [
    {
     "data": {
      "text/plain": [
       "0"
      ]
     },
     "execution_count": 43,
     "metadata": {},
     "output_type": "execute_result"
    }
   ],
   "source": [
    "#Function to count the occurances of a charcter in a sting\n",
    "# \"python programming\"-> m->2\n",
    "\n",
    "def countOccurances(s, c):\n",
    "    count = 0\n",
    "    for ch in string:\n",
    "        if ch == c:\n",
    "            count += 1\n",
    "        return count\n",
    "def countCharOccurances2(s, c):\n",
    "    return s.count(c)\n",
    "countCharOccurances2(\"python programming\", 'mp')\n",
    "    "
   ]
  },
  {
   "cell_type": "code",
   "execution_count": 48,
   "metadata": {},
   "outputs": [
    {
     "data": {
      "text/plain": [
       "[1, 2, 3, 4, 5]"
      ]
     },
     "execution_count": 48,
     "metadata": {},
     "output_type": "execute_result"
    }
   ],
   "source": [
    "s = \"1 2 3 4 5\"\n",
    "li=s.split()\n",
    "numberlist = []\n",
    "for i in li:\n",
    "    numberlist.append(int(i))\n",
    "numberlist"
   ]
  },
  {
   "cell_type": "code",
   "execution_count": 50,
   "metadata": {},
   "outputs": [
    {
     "data": {
      "text/plain": [
       "1"
      ]
     },
     "execution_count": 50,
     "metadata": {},
     "output_type": "execute_result"
    }
   ],
   "source": [
    "li = [1,4,9,3]\n",
    "min(li)"
   ]
  },
  {
   "cell_type": "code",
   "execution_count": 51,
   "metadata": {},
   "outputs": [
    {
     "name": "stdout",
     "output_type": "stream",
     "text": [
      "3\n"
     ]
    },
    {
     "data": {
      "text/plain": [
       "14"
      ]
     },
     "execution_count": 51,
     "metadata": {},
     "output_type": "execute_result"
    }
   ],
   "source": [
    "# sum of natural number\n",
    "n= int(input())\n",
    "def sumOfSquares(n):\n",
    "    sum = 0\n",
    "    for i in range(1, n+1):\n",
    "        sum = sum + i**2\n",
    "    return sum\n",
    "sumOfSquares(n)\n",
    "        "
   ]
  },
  {
   "cell_type": "code",
   "execution_count": 54,
   "metadata": {},
   "outputs": [
    {
     "name": "stdout",
     "output_type": "stream",
     "text": [
      "6\n",
      "1 2 3 4 5 6\n"
     ]
    },
    {
     "data": {
      "text/plain": [
       "1"
      ]
     },
     "execution_count": 54,
     "metadata": {},
     "output_type": "execute_result"
    }
   ],
   "source": [
    "# Closest value to the zero\n",
    "n = int(input())\n",
    "s = input()\n",
    "# \"1 2 3 4 5\"\n",
    "li = []\n",
    "for i in s.split():\n",
    "    li.append(abs(int(i)))\n",
    "min(li)\n",
    "    \n",
    "        "
   ]
  },
  {
   "cell_type": "code",
   "execution_count": 57,
   "metadata": {},
   "outputs": [
    {
     "name": "stdout",
     "output_type": "stream",
     "text": [
      "6\n",
      "-2 -1 1 2\n"
     ]
    },
    {
     "data": {
      "text/plain": [
       "1"
      ]
     },
     "execution_count": 57,
     "metadata": {},
     "output_type": "execute_result"
    }
   ],
   "source": [
    "# 3rd\n",
    "n = int(input())\n",
    "s = input()\n",
    "s = s.split()\n",
    "li = []\n",
    "for i in s:\n",
    "    li.append(abs(int(i)))\n",
    "min(li)"
   ]
  },
  {
   "cell_type": "code",
   "execution_count": 56,
   "metadata": {},
   "outputs": [
    {
     "name": "stdout",
     "output_type": "stream",
     "text": [
      "{1, 34, 43, 23}\n"
     ]
    }
   ],
   "source": [
    "a = [1,23,34,43,23]\n",
    "\n",
    "duplicateitems = set()\n",
    "uniqueitems = []\n",
    "for x in a:\n",
    "    if x not in duplicateitems:\n",
    "        uniqueitems.append(x)\n",
    "        duplicateitems.add(x)\n",
    "print(duplicateitems)\n",
    "        \n"
   ]
  },
  {
   "cell_type": "code",
   "execution_count": 63,
   "metadata": {},
   "outputs": [
    {
     "name": "stdout",
     "output_type": "stream",
     "text": [
      "list is an empty\n"
     ]
    }
   ],
   "source": [
    "# find a list empty or not\n",
    "li = []\n",
    "if i not in li:\n",
    "    print(\"list is an empty\")\n",
    "else:\n",
    "    print(li)"
   ]
  },
  {
   "cell_type": "code",
   "execution_count": 3,
   "metadata": {},
   "outputs": [
    {
     "name": "stdout",
     "output_type": "stream",
     "text": [
      "[1, 34, 43, 24, 45]\n"
     ]
    }
   ],
   "source": [
    "# Copying the same list\n",
    "li = [1,34,43,24,45]\n",
    "li2 = list(li)\n",
    "print(li)"
   ]
  },
  {
   "cell_type": "code",
   "execution_count": 8,
   "metadata": {},
   "outputs": [
    {
     "data": {
      "text/plain": [
       "['cute', 'girl']"
      ]
     },
     "execution_count": 8,
     "metadata": {},
     "output_type": "execute_result"
    }
   ],
   "source": [
    "# Printing of a String According to n value\n",
    "def words_length(n,str):\n",
    "    wordlength = []\n",
    "    txt = str.split(\" \")\n",
    "    for i in txt:\n",
    "        if len(i) > n:\n",
    "            wordlength.append(i)\n",
    "    return wordlength\n",
    "words_length(3, \"She is a cute girl\")"
   ]
  },
  {
   "cell_type": "code",
   "execution_count": 14,
   "metadata": {},
   "outputs": [
    {
     "data": {
      "text/plain": [
       "False"
      ]
     },
     "execution_count": 14,
     "metadata": {},
     "output_type": "execute_result"
    }
   ],
   "source": [
    "#Take two list  and return true if they have a common number\n",
    "def lists(l1, l2):\n",
    "    return False\n",
    "    for x in l1:\n",
    "        for y in l2:\n",
    "            if x == y:\n",
    "                result = True\n",
    "                return result\n",
    "lists([1,23,34,45], [22,39,46,87])"
   ]
  },
  {
   "cell_type": "code",
   "execution_count": 16,
   "metadata": {},
   "outputs": [
    {
     "data": {
      "text/plain": [
       "['green', 'blue', 'white']"
      ]
     },
     "execution_count": 16,
     "metadata": {},
     "output_type": "execute_result"
    }
   ],
   "source": [
    "li = ['red','green','blue','white','yellow','pink']\n",
    "li[1:4]"
   ]
  },
  {
   "cell_type": "code",
   "execution_count": null,
   "metadata": {},
   "outputs": [],
   "source": []
  }
 ],
 "metadata": {
  "kernelspec": {
   "display_name": "Python 3",
   "language": "python",
   "name": "python3"
  },
  "language_info": {
   "codemirror_mode": {
    "name": "ipython",
    "version": 3
   },
   "file_extension": ".py",
   "mimetype": "text/x-python",
   "name": "python",
   "nbconvert_exporter": "python",
   "pygments_lexer": "ipython3",
   "version": "3.7.3"
  }
 },
 "nbformat": 4,
 "nbformat_minor": 2
}
