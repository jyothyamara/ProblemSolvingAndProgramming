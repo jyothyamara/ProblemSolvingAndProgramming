{
 "cells": [
  {
   "cell_type": "code",
   "execution_count": null,
   "metadata": {},
   "outputs": [],
   "source": []
  },
  {
   "cell_type": "code",
   "execution_count": 4,
   "metadata": {},
   "outputs": [
    {
     "data": {
      "text/html": [
       "<div>\n",
       "<style scoped>\n",
       "    .dataframe tbody tr th:only-of-type {\n",
       "        vertical-align: middle;\n",
       "    }\n",
       "\n",
       "    .dataframe tbody tr th {\n",
       "        vertical-align: top;\n",
       "    }\n",
       "\n",
       "    .dataframe thead th {\n",
       "        text-align: right;\n",
       "    }\n",
       "</style>\n",
       "<table border=\"1\" class=\"dataframe\">\n",
       "  <thead>\n",
       "    <tr style=\"text-align: right;\">\n",
       "      <th></th>\n",
       "      <th>Unnamed: 0</th>\n",
       "      <th>GEOID</th>\n",
       "      <th>State</th>\n",
       "      <th>2005</th>\n",
       "      <th>2006</th>\n",
       "      <th>2007</th>\n",
       "      <th>2008</th>\n",
       "      <th>2009</th>\n",
       "      <th>2010</th>\n",
       "      <th>2011</th>\n",
       "      <th>2012</th>\n",
       "      <th>2013</th>\n",
       "    </tr>\n",
       "  </thead>\n",
       "  <tbody>\n",
       "    <tr>\n",
       "      <th>0</th>\n",
       "      <td>0</td>\n",
       "      <td>04000US01</td>\n",
       "      <td>Alabama</td>\n",
       "      <td>37150</td>\n",
       "      <td>37952</td>\n",
       "      <td>42212</td>\n",
       "      <td>44476</td>\n",
       "      <td>39980</td>\n",
       "      <td>40933</td>\n",
       "      <td>42590</td>\n",
       "      <td>43464</td>\n",
       "      <td>41381</td>\n",
       "    </tr>\n",
       "    <tr>\n",
       "      <th>1</th>\n",
       "      <td>1</td>\n",
       "      <td>04000US02</td>\n",
       "      <td>Alaska</td>\n",
       "      <td>55891</td>\n",
       "      <td>56418</td>\n",
       "      <td>62993</td>\n",
       "      <td>63989</td>\n",
       "      <td>61604</td>\n",
       "      <td>57848</td>\n",
       "      <td>57431</td>\n",
       "      <td>63648</td>\n",
       "      <td>61137</td>\n",
       "    </tr>\n",
       "    <tr>\n",
       "      <th>2</th>\n",
       "      <td>2</td>\n",
       "      <td>04000US04</td>\n",
       "      <td>Arizona</td>\n",
       "      <td>45245</td>\n",
       "      <td>46657</td>\n",
       "      <td>47215</td>\n",
       "      <td>46914</td>\n",
       "      <td>45739</td>\n",
       "      <td>46896</td>\n",
       "      <td>48621</td>\n",
       "      <td>47044</td>\n",
       "      <td>50602</td>\n",
       "    </tr>\n",
       "    <tr>\n",
       "      <th>3</th>\n",
       "      <td>3</td>\n",
       "      <td>04000US05</td>\n",
       "      <td>Arkansas</td>\n",
       "      <td>36658</td>\n",
       "      <td>37057</td>\n",
       "      <td>40795</td>\n",
       "      <td>39586</td>\n",
       "      <td>36538</td>\n",
       "      <td>38587</td>\n",
       "      <td>41302</td>\n",
       "      <td>39018</td>\n",
       "      <td>39919</td>\n",
       "    </tr>\n",
       "    <tr>\n",
       "      <th>4</th>\n",
       "      <td>4</td>\n",
       "      <td>04000US06</td>\n",
       "      <td>California</td>\n",
       "      <td>51755</td>\n",
       "      <td>55319</td>\n",
       "      <td>55734</td>\n",
       "      <td>57014</td>\n",
       "      <td>56134</td>\n",
       "      <td>54283</td>\n",
       "      <td>53367</td>\n",
       "      <td>57020</td>\n",
       "      <td>57528</td>\n",
       "    </tr>\n",
       "  </tbody>\n",
       "</table>\n",
       "</div>"
      ],
      "text/plain": [
       "   Unnamed: 0      GEOID       State   2005   2006   2007   2008   2009  \\\n",
       "0           0  04000US01     Alabama  37150  37952  42212  44476  39980   \n",
       "1           1  04000US02      Alaska  55891  56418  62993  63989  61604   \n",
       "2           2  04000US04     Arizona  45245  46657  47215  46914  45739   \n",
       "3           3  04000US05    Arkansas  36658  37057  40795  39586  36538   \n",
       "4           4  04000US06  California  51755  55319  55734  57014  56134   \n",
       "\n",
       "    2010   2011   2012   2013  \n",
       "0  40933  42590  43464  41381  \n",
       "1  57848  57431  63648  61137  \n",
       "2  46896  48621  47044  50602  \n",
       "3  38587  41302  39018  39919  \n",
       "4  54283  53367  57020  57528  "
      ]
     },
     "execution_count": 4,
     "metadata": {},
     "output_type": "execute_result"
    }
   ],
   "source": [
    "# Function to read CSV data into a DataFrame and returns the DataFrame Object.\n",
    "\n",
    "filepath = 'DataFiles/Incometax.csv'\n",
    "incomedf = pd.read_csv(filepath)\n",
    "\n",
    "import pandas as pd\n",
    "def readCSVdata(filepath):\n",
    "    return pd.read_csv(filepath)\n",
    "\n",
    "readCSVdata(filepath)"
   ]
  },
  {
   "cell_type": "code",
   "execution_count": 6,
   "metadata": {},
   "outputs": [
    {
     "data": {
      "text/plain": [
       "48525"
      ]
     },
     "execution_count": 6,
     "metadata": {},
     "output_type": "execute_result"
    }
   ],
   "source": [
    "# Combined Average income of all states from 2005 to 2013\n",
    "import pandas as pd\n",
    "filepath = 'DataFiles/Incometax.csv'\n",
    "incomedf = pd.read_csv(filepath)\n",
    "def averages(df):\n",
    "    sum = 0\n",
    "    count = 0\n",
    "    for row in df.values:\n",
    "        for i in range(3,len(row)):\n",
    "            \n",
    "            sum = sum+int(row[i])\n",
    "            count += 1\n",
    "        avg = sum//count\n",
    "    return avg\n",
    "    \n",
    "averages(incomedf)        "
   ]
  },
  {
   "cell_type": "code",
   "execution_count": 7,
   "metadata": {},
   "outputs": [
    {
     "name": "stdout",
     "output_type": "stream",
     "text": [
      "04000US01 42478\n",
      "04000US02 60738\n",
      "04000US04 48755\n",
      "04000US05 40079\n",
      "04000US06 55971\n"
     ]
    },
    {
     "data": {
      "text/plain": [
       "'04000US02'"
      ]
     },
     "execution_count": 7,
     "metadata": {},
     "output_type": "execute_result"
    }
   ],
   "source": [
    "import math as m\n",
    "def highestAverageIncome(df):\n",
    "    highestAvgIncome = 0\n",
    "    avg = 0\n",
    "    state = ''\n",
    "    for row in df.values:\n",
    "        avg = (row[-3:].mean())\n",
    "        a = m.floor(avg)\n",
    "        print(row[1],a)\n",
    "        if a > highestAvgIncome:\n",
    "            highestAvgIncome = a\n",
    "            state = row[1]\n",
    "    return state            \n",
    "highestAverageIncome(incomedf)"
   ]
  },
  {
   "cell_type": "code",
   "execution_count": 8,
   "metadata": {},
   "outputs": [
    {
     "name": "stdout",
     "output_type": "stream",
     "text": [
      "04000US01 41900.25\n",
      "04000US02 61608.5\n",
      "04000US04 46691.0\n",
      "04000US05 38876.5\n",
      "04000US06 55791.25\n"
     ]
    },
    {
     "data": {
      "text/plain": [
       "'04000US05'"
      ]
     },
     "execution_count": 8,
     "metadata": {},
     "output_type": "execute_result"
    }
   ],
   "source": [
    "# State with lowest average income from 2007 to 2010(inclusive)\n",
    "\n",
    "def getClIndex(df,cl_key):\n",
    "    for i in range(len(df.columns)):\n",
    "        if df.columns[i] == cl_key:\n",
    "            cl_index = i\n",
    "    return cl_index\n",
    "        \n",
    "def lowestAvgIncome(df,st_year,ed_year):\n",
    "    lowest_avg_income = 100000\n",
    "    avg = 0\n",
    "    state = ''\n",
    "    st_cl_index = getClIndex(df,st_year)\n",
    "    ed_cl_index = getClIndex(df,ed_year)\n",
    "    for row in df.values:\n",
    "        avg = ((row[st_cl_index:ed_cl_index+1]).mean())\n",
    "        print(row[1],avg)\n",
    "        if avg < lowest_avg_income:\n",
    "            lowest_avg_income = avg\n",
    "            state = row[1]\n",
    "    return state\n",
    "          \n",
    "lowestAvgIncome(incomedf,'2007','2010')"
   ]
  },
  {
   "cell_type": "code",
   "execution_count": 10,
   "metadata": {},
   "outputs": [
    {
     "ename": "UnboundLocalError",
     "evalue": "local variable 'row_index' referenced before assignment",
     "output_type": "error",
     "traceback": [
      "\u001b[1;31m---------------------------------------------------------------------------\u001b[0m",
      "\u001b[1;31mUnboundLocalError\u001b[0m                         Traceback (most recent call last)",
      "\u001b[1;32m<ipython-input-10-c8c04ab76d68>\u001b[0m in \u001b[0;36m<module>\u001b[1;34m\u001b[0m\n\u001b[0;32m     17\u001b[0m             \u001b[0mprint\u001b[0m\u001b[1;33m(\u001b[0m\u001b[0mrow\u001b[0m\u001b[1;33m[\u001b[0m\u001b[1;36m1\u001b[0m\u001b[1;33m]\u001b[0m\u001b[1;33m,\u001b[0m\u001b[0mend\u001b[0m \u001b[1;33m=\u001b[0m \u001b[1;34m' '\u001b[0m\u001b[1;33m)\u001b[0m\u001b[1;33m\u001b[0m\u001b[1;33m\u001b[0m\u001b[0m\n\u001b[0;32m     18\u001b[0m \u001b[1;33m\u001b[0m\u001b[0m\n\u001b[1;32m---> 19\u001b[1;33m \u001b[0mallStatesLessCalifornia\u001b[0m\u001b[1;33m(\u001b[0m\u001b[0mincomedf\u001b[0m\u001b[1;33m)\u001b[0m\u001b[1;33m\u001b[0m\u001b[1;33m\u001b[0m\u001b[0m\n\u001b[0m",
      "\u001b[1;32m<ipython-input-10-c8c04ab76d68>\u001b[0m in \u001b[0;36mallStatesLessCalifornia\u001b[1;34m(df)\u001b[0m\n\u001b[0;32m      7\u001b[0m \u001b[1;33m\u001b[0m\u001b[0m\n\u001b[0;32m      8\u001b[0m \u001b[1;32mdef\u001b[0m \u001b[0mallStatesLessCalifornia\u001b[0m\u001b[1;33m(\u001b[0m\u001b[0mdf\u001b[0m\u001b[1;33m)\u001b[0m\u001b[1;33m:\u001b[0m\u001b[1;33m\u001b[0m\u001b[1;33m\u001b[0m\u001b[0m\n\u001b[1;32m----> 9\u001b[1;33m     \u001b[0mrow_index\u001b[0m \u001b[1;33m=\u001b[0m \u001b[0mgetRowIndex\u001b[0m\u001b[1;33m(\u001b[0m\u001b[0mdf\u001b[0m\u001b[1;33m,\u001b[0m\u001b[1;34m'California'\u001b[0m\u001b[1;33m)\u001b[0m\u001b[1;33m\u001b[0m\u001b[1;33m\u001b[0m\u001b[0m\n\u001b[0m\u001b[0;32m     10\u001b[0m     \u001b[0mavg\u001b[0m \u001b[1;33m=\u001b[0m \u001b[1;36m0\u001b[0m\u001b[1;33m\u001b[0m\u001b[1;33m\u001b[0m\u001b[0m\n\u001b[0;32m     11\u001b[0m     \u001b[0mcalifornia_avg\u001b[0m \u001b[1;33m=\u001b[0m \u001b[0mdf\u001b[0m\u001b[1;33m.\u001b[0m\u001b[0mvalues\u001b[0m\u001b[1;33m[\u001b[0m\u001b[0mrow_index\u001b[0m\u001b[1;33m]\u001b[0m\u001b[1;33m[\u001b[0m\u001b[1;36m2\u001b[0m\u001b[1;33m:\u001b[0m\u001b[1;33m]\u001b[0m\u001b[1;33m.\u001b[0m\u001b[0mmean\u001b[0m\u001b[1;33m(\u001b[0m\u001b[1;33m)\u001b[0m\u001b[1;33m\u001b[0m\u001b[1;33m\u001b[0m\u001b[0m\n",
      "\u001b[1;32m<ipython-input-10-c8c04ab76d68>\u001b[0m in \u001b[0;36mgetRowIndex\u001b[1;34m(df, row_key)\u001b[0m\n\u001b[0;32m      4\u001b[0m         \u001b[1;32mif\u001b[0m \u001b[0mdf\u001b[0m\u001b[1;33m.\u001b[0m\u001b[0mvalues\u001b[0m\u001b[1;33m[\u001b[0m\u001b[0mi\u001b[0m\u001b[1;33m]\u001b[0m\u001b[1;33m[\u001b[0m\u001b[1;36m1\u001b[0m\u001b[1;33m]\u001b[0m \u001b[1;33m==\u001b[0m \u001b[0mrow_key\u001b[0m\u001b[1;33m:\u001b[0m\u001b[1;33m\u001b[0m\u001b[1;33m\u001b[0m\u001b[0m\n\u001b[0;32m      5\u001b[0m             \u001b[0mrow_index\u001b[0m \u001b[1;33m=\u001b[0m \u001b[0mi\u001b[0m\u001b[1;33m\u001b[0m\u001b[1;33m\u001b[0m\u001b[0m\n\u001b[1;32m----> 6\u001b[1;33m     \u001b[1;32mreturn\u001b[0m \u001b[0mrow_index\u001b[0m\u001b[1;33m\u001b[0m\u001b[1;33m\u001b[0m\u001b[0m\n\u001b[0m\u001b[0;32m      7\u001b[0m \u001b[1;33m\u001b[0m\u001b[0m\n\u001b[0;32m      8\u001b[0m \u001b[1;32mdef\u001b[0m \u001b[0mallStatesLessCalifornia\u001b[0m\u001b[1;33m(\u001b[0m\u001b[0mdf\u001b[0m\u001b[1;33m)\u001b[0m\u001b[1;33m:\u001b[0m\u001b[1;33m\u001b[0m\u001b[1;33m\u001b[0m\u001b[0m\n",
      "\u001b[1;31mUnboundLocalError\u001b[0m: local variable 'row_index' referenced before assignment"
     ]
    }
   ],
   "source": [
    "# Print the list of all states in the same line with average income less than California\n",
    "def getRowIndex(df,row_key):\n",
    "    for i in range(len(df.values)):\n",
    "        if df.values[i][1] == row_key:\n",
    "            row_index = i\n",
    "    return row_index\n",
    "\n",
    "def allStatesLessCalifornia(df):\n",
    "    row_index = getRowIndex(df,'California')\n",
    "    avg = 0\n",
    "    california_avg = df.values[row_index][2:].mean()\n",
    "    #print(california_avg)\n",
    "    for row in df.values:\n",
    "        avg = row[2:].mean()\n",
    "        #print(row[1],avg)\n",
    "        if avg < california_avg:\n",
    "            print(row[1],end = ' ')\n",
    "        \n",
    "allStatesLessCalifornia(incomedf)"
   ]
  },
  {
   "cell_type": "code",
   "execution_count": 11,
   "metadata": {},
   "outputs": [
    {
     "name": "stdout",
     "output_type": "stream",
     "text": [
      "[('04000US02', 61604), ('04000US06', 56134), ('04000US04', 45739), ('04000US01', 39980), ('04000US05', 36538)]\n",
      "04000US02\n",
      "04000US06\n",
      "04000US04\n",
      "04000US01\n",
      "04000US05\n"
     ]
    }
   ],
   "source": [
    "# Print the names of states based on descending order of income in the year 2009\n",
    "\n",
    "def statesIncomeDecending(df):\n",
    "    cl_index = getClIndex(df,'2009')\n",
    "    income = {}\n",
    "    for row in df.values:\n",
    "        income[row[1]] = row[cl_index]\n",
    "    income = sorted(income.items(),key=lambda kv: kv[1],reverse = True) # To sort dictionary based on values we use \"key=lambda kv: kv[1]\"\n",
    "    print(income)\n",
    "    for item in income:\n",
    "        print(item[0])\n",
    "statesIncomeDecending(incomedf)"
   ]
  },
  {
   "cell_type": "code",
   "execution_count": 12,
   "metadata": {},
   "outputs": [
    {
     "name": "stdout",
     "output_type": "stream",
     "text": [
      "3 11\n",
      "04000US01 37150\n",
      "04000US02 55891\n",
      "04000US04 45245\n",
      "04000US05 36538\n",
      "04000US06 51755\n"
     ]
    },
    {
     "data": {
      "text/plain": [
       "'04000US05'"
      ]
     },
     "execution_count": 12,
     "metadata": {},
     "output_type": "execute_result"
    }
   ],
   "source": [
    "# State with the lowest recorded income from 2005 to 2013\n",
    "\n",
    "def lowestRecordedIncome(df,st_year,ed_year):\n",
    "    st_year_index = getClIndex(df,st_year)\n",
    "    ed_year_index = getClIndex(df,ed_year)\n",
    "    min_income = 100000\n",
    "    state = ''\n",
    "    print(st_year_index,ed_year_index)\n",
    "    for row in df.values:\n",
    "        income_list = row[st_year_index:ed_year_index+1]\n",
    "        print(row[1],min(income_list))\n",
    "        if min(income_list) < min_income:\n",
    "            min_income = min(income_list)\n",
    "            state = row[1]\n",
    "    return state\n",
    "lowestRecordedIncome(incomedf,'2005','2013')"
   ]
  },
  {
   "cell_type": "code",
   "execution_count": null,
   "metadata": {},
   "outputs": [],
   "source": []
  }
 ],
 "metadata": {
  "kernelspec": {
   "display_name": "Python 3",
   "language": "python",
   "name": "python3"
  },
  "language_info": {
   "codemirror_mode": {
    "name": "ipython",
    "version": 3
   },
   "file_extension": ".py",
   "mimetype": "text/x-python",
   "name": "python",
   "nbconvert_exporter": "python",
   "pygments_lexer": "ipython3",
   "version": "3.7.3"
  }
 },
 "nbformat": 4,
 "nbformat_minor": 2
}
