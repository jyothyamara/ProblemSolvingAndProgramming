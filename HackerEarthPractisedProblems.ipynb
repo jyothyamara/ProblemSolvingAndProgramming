{
 "cells": [
  {
   "cell_type": "markdown",
   "metadata": {},
   "source": [
    "### Count Divisors\n",
    "You have been given 3 integers - l, r and k. Find how many numbers between l and r (both inclusive) are divisible by k. You do not need to print these numbers, you just have to find their count.\n",
    "\n",
    "Input Format\n",
    "The first and only line of input contains 3 space separated integers l, r and k.\n",
    "\n",
    "Output Format\n",
    "Print the required answer on a single line."
   ]
  },
  {
   "cell_type": "code",
   "execution_count": 1,
   "metadata": {},
   "outputs": [
    {
     "name": "stdout",
     "output_type": "stream",
     "text": [
      "10\n"
     ]
    }
   ],
   "source": [
    "def countDivisors(l, r, k):\n",
    "    count = 0\n",
    "    for i in range(l, r+1):\n",
    "        if i % k == 0:\n",
    "            count = count+1\n",
    "    print(count)\n",
    "\n",
    "countDivisors(1, 10, 1)\n"
   ]
  },
  {
   "cell_type": "code",
   "execution_count": null,
   "metadata": {},
   "outputs": [],
   "source": []
  },
  {
   "cell_type": "markdown",
   "metadata": {},
   "source": [
    "### Palindrome String\n",
    "You have been given a String S. You need to find and print whether this string is a palindrome or not. If yes, print \"YES\" (without quotes), else print \"NO\" (without quotes).\n",
    "\n",
    "Input Format\n",
    "The first and only line of input contains the String S. The String shall consist of lowercase English alphabets only.\n",
    "\n",
    "Output Format\n",
    "Print the required answer on a single line."
   ]
  },
  {
   "cell_type": "code",
   "execution_count": 2,
   "metadata": {},
   "outputs": [
    {
     "name": "stdout",
     "output_type": "stream",
     "text": [
      "aba\n"
     ]
    },
    {
     "data": {
      "text/plain": [
       "'YES'"
      ]
     },
     "execution_count": 2,
     "metadata": {},
     "output_type": "execute_result"
    }
   ],
   "source": [
    "def isPalindrome(s):\n",
    "    if s == s[::-1]:\n",
    "        return \"YES\"\n",
    "    else:\n",
    "        return \"NO\"\n",
    "s = input()\n",
    "\n",
    "isPalindrome(s)"
   ]
  },
  {
   "cell_type": "code",
   "execution_count": null,
   "metadata": {},
   "outputs": [],
   "source": []
  },
  {
   "cell_type": "markdown",
   "metadata": {},
   "source": [
    "### Prime numbers:\n",
    "You are given an integer N. You need to print the series of all prime numbers till N.\n",
    "\n",
    "Input Format\n",
    "\n",
    "The first and only line of the input contains a single integer N denoting the number till where you need to find the series of prime number.\n",
    "\n",
    "Output Format\n",
    "\n",
    "Print the desired output in single line separated by spaces."
   ]
  },
  {
   "cell_type": "code",
   "execution_count": 3,
   "metadata": {},
   "outputs": [
    {
     "name": "stdout",
     "output_type": "stream",
     "text": [
      "9\n",
      "2 3 5 7 "
     ]
    }
   ],
   "source": [
    "def primeNumbers(n):\n",
    "    for i in range(2, n+1):\n",
    "        flag =0\n",
    "        for j in range(2, i):\n",
    "            if(i % j) == 0:\n",
    "                flag =1\n",
    "                break\n",
    "        if flag==0:\n",
    "            print(i,end = \" \")\n",
    "           \n",
    "        \n",
    "n = int(input())\n",
    "primeNumbers(n)\n"
   ]
  },
  {
   "cell_type": "code",
   "execution_count": null,
   "metadata": {},
   "outputs": [],
   "source": []
  },
  {
   "cell_type": "markdown",
   "metadata": {},
   "source": [
    "### Factorial:\n",
    "You have been given a positive integer N. You need to find and print the Factorial of this number. The Factorial of a positive integer N refers to the product of all number in the range from 1 to N. You can read more about the factorial of a number here.\n",
    "\n",
    "Input Format:\n",
    "The first and only line of the input contains a single integer N denoting the number whose factorial you need to find.\n",
    "\n",
    "Output Format\n",
    "Output a single line denoting the factorial of the number N."
   ]
  },
  {
   "cell_type": "code",
   "execution_count": 4,
   "metadata": {},
   "outputs": [
    {
     "name": "stdout",
     "output_type": "stream",
     "text": [
      "9\n",
      "362880\n"
     ]
    }
   ],
   "source": [
    "def factorialNumber(n):\n",
    "    if n == 0:\n",
    "        return 1\n",
    "    else:\n",
    "        return n*factorialNumber(n-1)\n",
    "n = int(input())\n",
    "print(factorialNumber(n))\n"
   ]
  },
  {
   "cell_type": "code",
   "execution_count": null,
   "metadata": {},
   "outputs": [],
   "source": []
  },
  {
   "cell_type": "markdown",
   "metadata": {},
   "source": [
    "### Toggle String:\n",
    "You have been given a String S consisting of uppercase and lowercase English alphabets. You need to change the case of each alphabet in this String. That is, all the uppercase letters should be converted to lowercase and all the lowercase letters should be converted to uppercase. You need to then print the resultant String to output.\n",
    "\n",
    "Input Format\n",
    "The first and only line of input contains the String S\n",
    "\n",
    "Output Format\n",
    "Print the resultant String on a single line.\n"
   ]
  },
  {
   "cell_type": "code",
   "execution_count": 5,
   "metadata": {},
   "outputs": [
    {
     "name": "stdout",
     "output_type": "stream",
     "text": [
      "sindhu\n",
      "SINDHU\n"
     ]
    }
   ],
   "source": [
    "def ToogleString(string):\n",
    "    s = ''\n",
    "    for word in string:\n",
    "        if word.islower():\n",
    "            s = s+word.upper()\n",
    "        elif word.isupper():\n",
    "            s = s+word.lower()\n",
    "    print(s)\n",
    "    \n",
    "string = input()\n",
    "ToogleString(string)"
   ]
  },
  {
   "cell_type": "code",
   "execution_count": null,
   "metadata": {},
   "outputs": [],
   "source": []
  },
  {
   "cell_type": "markdown",
   "metadata": {},
   "source": [
    "### Two Strings\n",
    "Given two strings of equal length, you have to tell whether they both strings are identical.\n",
    "\n",
    "Two strings S1 and S2 are said to be identical, if any of the permutation of string S1 is equal to the string S2. See Sample explanation for more details.\n",
    "\n",
    "Input :\n",
    "\n",
    "First line, contains an intger 'T' denoting no. of test cases.\n",
    "Each test consists of a single line, containing two space separated strings S1 and S2 of equal length.\n",
    "Output:\n",
    "\n",
    "For each test case, if any of the permutation of string S1 is equal to the string S2 print YES else print NO."
   ]
  },
  {
   "cell_type": "code",
   "execution_count": 6,
   "metadata": {},
   "outputs": [
    {
     "name": "stdout",
     "output_type": "stream",
     "text": [
      "2\n",
      "sa sa\n",
      "YES\n",
      "sa gt\n",
      "NO\n"
     ]
    }
   ],
   "source": [
    "def twoSttrings(s1, s2):\n",
    "    count = 0\n",
    "    l1 = []\n",
    "    l2 = []\n",
    "    for i in s1:\n",
    "        l1.append(i)\n",
    "    for j in s2:\n",
    "        l2.append(j)\n",
    "    l1.sort()\n",
    "    l2.sort()\n",
    "    if l1 == l2:\n",
    "        print(\"YES\")\n",
    "    else:\n",
    "        print(\"NO\")\n",
    "        \n",
    "n= int(input())\n",
    "for i in range(n):\n",
    "    s = input()\n",
    "    l = s.split()\n",
    "    twoSttrings(l[0],l[1])"
   ]
  },
  {
   "cell_type": "code",
   "execution_count": null,
   "metadata": {},
   "outputs": [],
   "source": []
  },
  {
   "cell_type": "markdown",
   "metadata": {},
   "source": [
    "### Duration:\n",
    "Rahul is a very busy persion he dont wan't to waste his time . He keeps account of duration of each and every work. Now he don't even get time to calculate duration of works, So your job is to count the durations for each work and give it to rahul.\n",
    "\n",
    " \n",
    "\n",
    "Input:\n",
    "\n",
    "First line will be given by N number of works\n",
    "Next N line will be given SH,SM,EH and EM  each separated by space(SH=starting hr, SM=starting min, EH=ending hr, EM=ending min)\n",
    "Output:\n",
    "\n",
    "N lines with duration HH MM(hours and minutes separated by space)"
   ]
  },
  {
   "cell_type": "code",
   "execution_count": 7,
   "metadata": {},
   "outputs": [
    {
     "name": "stdout",
     "output_type": "stream",
     "text": [
      "1 11\n"
     ]
    }
   ],
   "source": [
    "s = \"1 33 2 44\"\n",
    "def duration(s):\n",
    "    s = s.split()\n",
    "    sh = int(s[0])\n",
    "    sm = int(s[1])\n",
    "    eh = int(s[2])\n",
    "    em = int(s[3])\n",
    "    startminutes = (sh * 60) + sm\n",
    "    endminutes = (eh * 60) + em\n",
    "    return endminutes - startminutes\n",
    "def outputTimeFarmat(minutes):\n",
    "    hh = minutes // 60\n",
    "    mm = minutes % 60\n",
    "    print(hh, mm)\n",
    "    return\n",
    "minutes = duration(s)\n",
    "outputTimeFarmat(minutes)"
   ]
  },
  {
   "cell_type": "markdown",
   "metadata": {},
   "source": [
    "### Char Sum:\n",
    "Consider All lowercase Alphabets of the English language. Here we consider each alphabet from a to z to have a certain weight. The weight of the alphabet a is considered to be 1, b to be 2, c to be 3 and so on until z has a weight of 26. In short, the weight of the alphabet a is 1, and the weight of all other alphabets is the weight of its previous alphabet + 1.\n",
    "\n",
    "Now, you have been given a String S consisting of lowercase English characters. You need to find the summation of weight of each character in this String.\n",
    "\n",
    "For example, Consider the String aba\n",
    "\n",
    "Here, the first character a has a weight of 1, the second character b has 2 and the third character a again has a weight of 1. So the summation here is equal to : 1+2+1=4\n",
    "\n",
    "Input Format:\n",
    "\n",
    "The first and only line of input contains the String S.\n",
    "\n",
    "Output Format:\n",
    "\n",
    "Print the required answer on a single line"
   ]
  },
  {
   "cell_type": "code",
   "execution_count": 8,
   "metadata": {},
   "outputs": [
    {
     "name": "stdout",
     "output_type": "stream",
     "text": [
      "amma\n",
      "28\n"
     ]
    }
   ],
   "source": [
    "def charSum(s):\n",
    "    sum = 0\n",
    "    for c in s:\n",
    "        sum=sum+ord(c) - 96\n",
    "    print(sum)\n",
    "    \n",
    "s = input()\n",
    "charSum(s)"
   ]
  },
  {
   "cell_type": "markdown",
   "metadata": {},
   "source": [
    "### playing with numbers:\n",
    "You are given an array of n numbers and q queries. For each query you have to print the floor of the expected value(mean) of the subarray from L to R.\n",
    "\n",
    "\n",
    "First line contains two integers N and Q denoting number of array elements and number of queries.\n",
    "\n",
    "Next line contains N space seperated integers denoting array elements.\n",
    "\n",
    "Next Q lines contain two integers L and R(indices of the array).\n",
    "\n",
    "\n",
    "print a single integer denoting the answer."
   ]
  },
  {
   "cell_type": "code",
   "execution_count": 9,
   "metadata": {},
   "outputs": [
    {
     "name": "stdout",
     "output_type": "stream",
     "text": [
      "5 3\n",
      "1 2 3 4 5\n",
      "1 3\n",
      "2\n",
      "2 4\n",
      "3\n",
      "2 5\n",
      "3\n"
     ]
    }
   ],
   "source": [
    "def playWithNumbers(sa, lb, ub):\n",
    "    if lb == 1:\n",
    "        s = sa[ub-1]\n",
    "    else:\n",
    "        s = sa[ub-1]-sa[lb-2]\n",
    "    print(s // ((ub-lb)+1))\n",
    "\n",
    "i = input().split()\n",
    "n = int(i[0])\n",
    "q = int(i[1])\n",
    "arr = input()\n",
    "l = list(map(int,arr.split()))\n",
    "sa = []\n",
    "sum = 0\n",
    "for i in l:\n",
    "    sum = sum+i\n",
    "    sa.append(sum)\n",
    "for j in range(q):\n",
    "    s = input().split()\n",
    "    lb = int(s[0])\n",
    "    ub = int(s[1]) \n",
    "    playWithNumbers(sa, lb, ub)\n",
    "    "
   ]
  },
  {
   "cell_type": "code",
   "execution_count": null,
   "metadata": {},
   "outputs": [],
   "source": []
  },
  {
   "cell_type": "code",
   "execution_count": null,
   "metadata": {},
   "outputs": [],
   "source": []
  },
  {
   "cell_type": "code",
   "execution_count": null,
   "metadata": {},
   "outputs": [],
   "source": []
  },
  {
   "cell_type": "code",
   "execution_count": null,
   "metadata": {},
   "outputs": [],
   "source": []
  },
  {
   "cell_type": "code",
   "execution_count": null,
   "metadata": {},
   "outputs": [],
   "source": []
  },
  {
   "cell_type": "code",
   "execution_count": null,
   "metadata": {},
   "outputs": [],
   "source": []
  }
 ],
 "metadata": {
  "kernelspec": {
   "display_name": "Python 3",
   "language": "python",
   "name": "python3"
  },
  "language_info": {
   "codemirror_mode": {
    "name": "ipython",
    "version": 3
   },
   "file_extension": ".py",
   "mimetype": "text/x-python",
   "name": "python",
   "nbconvert_exporter": "python",
   "pygments_lexer": "ipython3",
   "version": "3.7.3"
  }
 },
 "nbformat": 4,
 "nbformat_minor": 2
}
