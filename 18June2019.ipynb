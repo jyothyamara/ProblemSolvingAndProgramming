{
 "cells": [
  {
   "cell_type": "markdown",
   "metadata": {},
   "source": [
    "### Tuples:\n",
    "t1=()\n",
    "Difference between tuples and list:\n",
    "\n",
    "t1 = ()\n",
    "\n",
    "li = .[].\n",
    "\n",
    "lists are mutable - can be changed / modified\n",
    "- Acess, Modify, Add, Delete data\n",
    "\n",
    "\n",
    "Tuples are immutable - cannot be changed once initialised\n",
    "- used to acess data only\n",
    "- All Slicing operatins work\n",
    "\n",
    "\n",
    "Dictionaries are list \n",
    "- it is mutable "
   ]
  },
  {
   "cell_type": "code",
   "execution_count": 24,
   "metadata": {},
   "outputs": [
    {
     "data": {
      "text/plain": [
       "tuple"
      ]
     },
     "execution_count": 24,
     "metadata": {},
     "output_type": "execute_result"
    }
   ],
   "source": [
    "t1 = (1, 2, 8, 6, 0)\n",
    "\n",
    "t1[3] ### accesing fourth element ->6\n",
    "t1[2::] ### acessing all elements from middle to last -> 8, 6, 0\n",
    "t1[len(t1)//2:] ### using formula acessing all elements from midle to last\n",
    "type(t1) ### -> tuple\n",
    "\n"
   ]
  },
  {
   "cell_type": "code",
   "execution_count": null,
   "metadata": {},
   "outputs": [],
   "source": []
  },
  {
   "cell_type": "markdown",
   "metadata": {},
   "source": [
    "### Dictionaries:\n",
    "\n",
    "It works on the concept of set\n",
    "Main Advantage of Dictionaries are the data is unique.\n",
    "\n",
    "keys, values\n",
    "key is the unique identifieer for a value\n",
    "value is data that can be acessed with a key\n"
   ]
  },
  {
   "cell_type": "code",
   "execution_count": 37,
   "metadata": {},
   "outputs": [
    {
     "data": {
      "text/plain": [
       "False"
      ]
     },
     "execution_count": 37,
     "metadata": {},
     "output_type": "execute_result"
    }
   ],
   "source": [
    "d1 = {\"k1\":\"value1\", \"k2\":\"value2\"}\n",
    "d1[\"k2\"]  ##Aceesing the value with key \"k2\"\n",
    "d1.keys() ## returns list of all keys\n",
    "d1.values() ## returns list of all values\n",
    "d1.items()  ## return list of tuples of keys and values\n",
    "d1[\"k3\"] = \"value3\"  ## Adding an element to the dictionary\n",
    "d1[\"k3\"] = \"value4\"  ## updating an elemnt\n",
    "d1.pop(\"k3\")  ## removing an element\n",
    "\"k3\" in d1   ## searching for a key in dictionary\n"
   ]
  },
  {
   "cell_type": "markdown",
   "metadata": {},
   "source": [
    "####  Contacts Application\n",
    "- Add contact\n",
    "- Search for Contact\n",
    "- list all contacts\n",
    "      - name1 : phone1\n",
    "      - name2 : phone2\n",
    "- Modify COntact\n",
    "- Remove contact\n"
   ]
  },
  {
   "cell_type": "code",
   "execution_count": 56,
   "metadata": {},
   "outputs": [
    {
     "name": "stdout",
     "output_type": "stream",
     "text": [
      "contact jyothi added\n"
     ]
    }
   ],
   "source": [
    "contacts = {}\n",
    "\n",
    "def addContact(name, phone):\n",
    "    # Verify that the contact doesnot already exist\n",
    "    if name not in contacts:\n",
    "        contacts[name] = phone\n",
    "        print(\"contact %s added\" %name)\n",
    "    else:\n",
    "        print(\"Contact %s alredy exist\" % name)\n",
    "    return\n",
    "addContact(\"jyothi\", \"9963699931\")"
   ]
  },
  {
   "cell_type": "code",
   "execution_count": 57,
   "metadata": {},
   "outputs": [
    {
     "name": "stdout",
     "output_type": "stream",
     "text": [
      "contact rupa added\n"
     ]
    }
   ],
   "source": [
    "addContact(\"rupa\",\"345678900\")"
   ]
  },
  {
   "cell_type": "code",
   "execution_count": 79,
   "metadata": {},
   "outputs": [
    {
     "name": "stdout",
     "output_type": "stream",
     "text": [
      "badulla : 98564561470\n"
     ]
    }
   ],
   "source": [
    "\n",
    "searchContacts(\"badulla\")"
   ]
  },
  {
   "cell_type": "code",
   "execution_count": null,
   "metadata": {},
   "outputs": [],
   "source": []
  },
  {
   "cell_type": "code",
   "execution_count": 44,
   "metadata": {},
   "outputs": [
    {
     "name": "stdout",
     "output_type": "stream",
     "text": [
      "Jyothi : 1234567890\n"
     ]
    }
   ],
   "source": [
    "def searchContacts(name):\n",
    "    if name in contacts:\n",
    "        print(name, \":\", contacts[name])\n",
    "    else:\n",
    "        print(\"%s does not exist\" % name)\n",
    "        return\n",
    "searchContacts(\"Jyothi\")"
   ]
  },
  {
   "cell_type": "code",
   "execution_count": 69,
   "metadata": {},
   "outputs": [
    {
     "name": "stdout",
     "output_type": "stream",
     "text": [
      "contact badulla added\n"
     ]
    }
   ],
   "source": [
    "addContact(\"badulla\",\"98564561470\")"
   ]
  },
  {
   "cell_type": "code",
   "execution_count": 70,
   "metadata": {},
   "outputs": [
    {
     "name": "stdout",
     "output_type": "stream",
     "text": [
      "jyothi 9963699931\n",
      "rupa 5678977867\n",
      "sindhu 9965444556\n",
      "amma 7036629618\n",
      "badulla 98564561470\n"
     ]
    }
   ],
   "source": [
    "def listContacts():\n",
    "    for name,phone in contacts.items():\n",
    "        print(name,phone)\n",
    "    return\n",
    "listContacts()"
   ]
  },
  {
   "cell_type": "code",
   "execution_count": 76,
   "metadata": {},
   "outputs": [
    {
     "name": "stdout",
     "output_type": "stream",
     "text": [
      "3 contacts added sucessfully\n"
     ]
    }
   ],
   "source": [
    "# new Contacts is given as a dictionary\n",
    "# merge new contacts with existing contacts\n",
    "def importContacts(newContacts):\n",
    "    contacts.update(newContacts)\n",
    "    print(len(newContacts.keys()), \"contacts added sucessfully\")\n",
    "    return\n",
    "newContacts = {\"sindhu\":9965444556, \"rupa\":5678977867, \"sandhya\":4547678456}\n",
    "importContacts(newContacts)"
   ]
  },
  {
   "cell_type": "markdown",
   "metadata": {},
   "source": [
    "### Packages and modules:\n",
    "  \n",
    "  \n",
    "**packages** -> collection of modules(python file\n",
    "**SubPackage** ->\n",
    "**Module** ->single pyhton file containsfunctions\n",
    "package -> subpackages -> Modules -> functions "
   ]
  },
  {
   "cell_type": "code",
   "execution_count": 83,
   "metadata": {},
   "outputs": [
    {
     "data": {
      "text/plain": [
       "3.141592653589793"
      ]
     },
     "execution_count": 83,
     "metadata": {},
     "output_type": "execute_result"
    }
   ],
   "source": [
    "from math import floor,pi\n",
    "\n",
    "floor(123.456)\n",
    "\n",
    "pi"
   ]
  },
  {
   "cell_type": "code",
   "execution_count": 84,
   "metadata": {},
   "outputs": [
    {
     "data": {
      "text/plain": [
       "123"
      ]
     },
     "execution_count": 84,
     "metadata": {},
     "output_type": "execute_result"
    }
   ],
   "source": [
    "from math  import floor as f1\n",
    "f1(123.456)"
   ]
  },
  {
   "cell_type": "code",
   "execution_count": 91,
   "metadata": {},
   "outputs": [
    {
     "data": {
      "text/plain": [
       "89"
      ]
     },
     "execution_count": 91,
     "metadata": {},
     "output_type": "execute_result"
    }
   ],
   "source": [
    " # function to generate n random numbers:\n",
    "import random\n",
    "\n",
    "random.randint(0, 100)\n",
    "    "
   ]
  },
  {
   "cell_type": "code",
   "execution_count": 95,
   "metadata": {},
   "outputs": [
    {
     "name": "stdout",
     "output_type": "stream",
     "text": [
      "100 92 61 58 3 63 7 58 89 80 "
     ]
    }
   ],
   "source": [
    "import random\n",
    "def genrateNRandomNumbers(n, lb, ub):\n",
    "    for i in range(0,n):\n",
    "        print(random.randint(lb, ub), end = \" \")\n",
    "genrateNRandomNumbers(10, 0, 100)\n",
    "        \n"
   ]
  },
  {
   "cell_type": "code",
   "execution_count": 98,
   "metadata": {},
   "outputs": [
    {
     "data": {
      "text/plain": [
       "2"
      ]
     },
     "execution_count": 98,
     "metadata": {},
     "output_type": "execute_result"
    }
   ],
   "source": [
    "from Packages import numerical\n",
    "\n",
    "numerical.numberPrimeFactors(96)"
   ]
  },
  {
   "cell_type": "code",
   "execution_count": 99,
   "metadata": {},
   "outputs": [
    {
     "data": {
      "text/plain": [
       "False"
      ]
     },
     "execution_count": 99,
     "metadata": {},
     "output_type": "execute_result"
    }
   ],
   "source": [
    "from Packages import numerical\n",
    "\n",
    "numerical.isCheck(96)"
   ]
  },
  {
   "cell_type": "code",
   "execution_count": 101,
   "metadata": {},
   "outputs": [
    {
     "data": {
      "text/plain": [
       "False"
      ]
     },
     "execution_count": 101,
     "metadata": {},
     "output_type": "execute_result"
    }
   ],
   "source": [
    "from Packages.numerical import isCheck\n",
    "\n",
    "isCheck(105)"
   ]
  },
  {
   "cell_type": "code",
   "execution_count": null,
   "metadata": {},
   "outputs": [],
   "source": []
  }
 ],
 "metadata": {
  "kernelspec": {
   "display_name": "Python 3",
   "language": "python",
   "name": "python3"
  },
  "language_info": {
   "codemirror_mode": {
    "name": "ipython",
    "version": 3
   },
   "file_extension": ".py",
   "mimetype": "text/x-python",
   "name": "python",
   "nbconvert_exporter": "python",
   "pygments_lexer": "ipython3",
   "version": "3.7.3"
  }
 },
 "nbformat": 4,
 "nbformat_minor": 2
}
