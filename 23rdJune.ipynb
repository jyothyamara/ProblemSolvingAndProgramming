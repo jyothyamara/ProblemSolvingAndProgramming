{
 "cells": [
  {
   "cell_type": "markdown",
   "metadata": {},
   "source": [
    "#### Date: 22June2019\n",
    "#### DAy Objectives:\n",
    "- FileHandling\n",
    "   - Basic File Data Processing\n",
    "      - Accesing and Modifying file Data\n",
    "   - Charcter Count\n",
    "   - Line Count\n",
    "   - File Size\n",
    "   - Word Count\n",
    "   - Unique Word Count"
   ]
  },
  {
   "cell_type": "code",
   "execution_count": 17,
   "metadata": {},
   "outputs": [
    {
     "name": "stdout",
     "output_type": "stream",
     "text": [
      "dftrytd\n",
      "rtyty\n",
      "rrytryy\n",
      "etytuy\n"
     ]
    }
   ],
   "source": [
    "# Read a file - File should exist(Read Mode)\n",
    "# Write to a file - File can exist(append mode) or new file can be create(Write mode)\n",
    "# Function to read entire file data into a single string\n",
    "def readFile(filepath):\n",
    "    with open (filepath,'r') as f:\n",
    "        filedata = f.read() # Reads the entire file data in to a string\n",
    "    return filedata\n",
    "filepath = 'DataFiles/data.txt'\n",
    "print(readFile(filepath))\n"
   ]
  },
  {
   "cell_type": "code",
   "execution_count": 38,
   "metadata": {},
   "outputs": [
    {
     "name": "stdout",
     "output_type": "stream",
     "text": [
      "158 bytes\n",
      "unique words in text = 12\n",
      "spaces = 11 \n",
      " lines = 6 \n",
      " count = 141\n",
      " words = 12\n"
     ]
    },
    {
     "data": {
      "text/plain": [
       "'dftrytd\\nrtyty\\nrrytryy\\netytuykfndjgnkjfdnv mnkjfgjnv mfnvkjdfvkj bvdfkvjckxn  cnvbfkjnvdmzxc  nvbfkjvndm,vbvjnbncbdnbcdn  cnvfbvn jyo sin\\ndftrytd\\nrtyty\\nrrytryy'"
      ]
     },
     "execution_count": 38,
     "metadata": {},
     "output_type": "execute_result"
    }
   ],
   "source": [
    "# Read a file - File should exist(Read Mode)\n",
    "# Write to a file - File can exist(append mode) or new file can be create(Write mode)\n",
    "import os\n",
    "def readFile(filepath):\n",
    "    l = []\n",
    "    ul = []\n",
    "    count = 0\n",
    "    with open (filepath,'r') as f:\n",
    "        filedata = f.read()\n",
    "        l = filedata.split()\n",
    "        for word in l:\n",
    "            if not word in ul:\n",
    "                ul.append(word)\n",
    "                count = count+1\n",
    "        print(\"unique words in text =\",count)\n",
    "        s, l, c, w = 0,0,0,0\n",
    "        for i in filedata:\n",
    "            if(i == \" \"):\n",
    "                s = s+1\n",
    "            elif(i == \"\\n\"):\n",
    "                l = l+1\n",
    "            else:\n",
    "                c = c+1\n",
    "    w = s+1\n",
    "    print(f\"spaces = {s} \\n lines = {l} \\n count = {c}\\n words = {w}\")\n",
    "    return filedata\n",
    "filepath = 'DataFiles/data.txt'\n",
    "print(os.path.getsize(filepath),\"bytes\")\n",
    "readFile(filepath)\n"
   ]
  },
  {
   "cell_type": "code",
   "execution_count": 28,
   "metadata": {},
   "outputs": [
    {
     "name": "stdout",
     "output_type": "stream",
     "text": [
      "4\n"
     ]
    }
   ],
   "source": [
    "words = []\n",
    "count = 0\n",
    "def readFile(filepath):\n",
    "    with open (filepath,\"r\") as f:\n",
    "        words = set(f.readlines()) \n",
    "    count = len(words)\n",
    "    print(count)\n",
    "filepath = 'DataFiles/data.txt'\n",
    "readFile(filepath)\n"
   ]
  },
  {
   "cell_type": "code",
   "execution_count": 2,
   "metadata": {},
   "outputs": [
    {
     "name": "stdout",
     "output_type": "stream",
     "text": [
      "['dftrytd', 'rtyty', 'rrytryy', 'etytuykfndjgnkjfdnv', 'mnkjfgjnv', 'mfnvkjdfvkj', 'bvdfkvjckxn', 'cnvbfkjnvdmzxc', 'nvbfkjvndm,vbvjnbncbdnbcdn', 'cnvfbvn', 'jyo', 'sin', 'dftrytd', 'rtyty', 'rrytryy']\n",
      "12\n"
     ]
    }
   ],
   "source": [
    "def unique(filepath):\n",
    "    l = []\n",
    "    ul = []\n",
    "    count = 0\n",
    "    with open (filepath,'r') as f:\n",
    "        filedata = f.read()\n",
    "        l = filedata.split() # each element in the list is one in the file\n",
    "        print(l)\n",
    "        for word in l:\n",
    "            if not word in ul:\n",
    "                ul.append(word)\n",
    "                count = count+1\n",
    "        print(count)\n",
    "                \n",
    "            \n",
    "filepath = 'DataFiles/data.txt'\n",
    "unique(filepath)"
   ]
  },
  {
   "cell_type": "code",
   "execution_count": null,
   "metadata": {},
   "outputs": [],
   "source": [
    "def readFileIntoList(filepath):\n",
    "    with open(filepath,'r') as f:"
   ]
  },
  {
   "cell_type": "code",
   "execution_count": 3,
   "metadata": {},
   "outputs": [
    {
     "name": "stdout",
     "output_type": "stream",
     "text": [
      "['dftrytd', 'rtyty', 'rrytryy', 'etytuykfndjgnkjfdnv', 'mnkjfgjnv', 'mfnvkjdfvkj', 'bvdfkvjckxn', 'cnvbfkjnvdmzxc', 'nvbfkjvndm,vbvjnbncbdnbcdn', 'cnvfbvn', 'jyo', 'sin', 'dftrytd', 'rtyty', 'rrytryy']\n",
      "12\n"
     ]
    },
    {
     "ename": "TypeError",
     "evalue": "object of type 'NoneType' has no len()",
     "output_type": "error",
     "traceback": [
      "\u001b[1;31m---------------------------------------------------------------------------\u001b[0m",
      "\u001b[1;31mTypeError\u001b[0m                                 Traceback (most recent call last)",
      "\u001b[1;32m<ipython-input-3-091f02795bd5>\u001b[0m in \u001b[0;36m<module>\u001b[1;34m\u001b[0m\n\u001b[0;32m      2\u001b[0m     \u001b[0mcount\u001b[0m \u001b[1;33m=\u001b[0m \u001b[0mlen\u001b[0m\u001b[1;33m(\u001b[0m\u001b[0munique\u001b[0m\u001b[1;33m(\u001b[0m\u001b[0mfilepath\u001b[0m\u001b[1;33m)\u001b[0m\u001b[1;33m)\u001b[0m\u001b[1;33m\u001b[0m\u001b[1;33m\u001b[0m\u001b[0m\n\u001b[0;32m      3\u001b[0m     \u001b[1;32mreturn\u001b[0m \u001b[0mcount\u001b[0m\u001b[1;33m\u001b[0m\u001b[1;33m\u001b[0m\u001b[0m\n\u001b[1;32m----> 4\u001b[1;33m \u001b[0mcountLinesFile\u001b[0m\u001b[1;33m(\u001b[0m\u001b[0mfilepath\u001b[0m\u001b[1;33m)\u001b[0m\u001b[1;33m\u001b[0m\u001b[1;33m\u001b[0m\u001b[0m\n\u001b[0m",
      "\u001b[1;32m<ipython-input-3-091f02795bd5>\u001b[0m in \u001b[0;36mcountLinesFile\u001b[1;34m(filepath)\u001b[0m\n\u001b[0;32m      1\u001b[0m \u001b[1;32mdef\u001b[0m \u001b[0mcountLinesFile\u001b[0m\u001b[1;33m(\u001b[0m\u001b[0mfilepath\u001b[0m\u001b[1;33m)\u001b[0m\u001b[1;33m:\u001b[0m\u001b[1;33m\u001b[0m\u001b[1;33m\u001b[0m\u001b[0m\n\u001b[1;32m----> 2\u001b[1;33m     \u001b[0mcount\u001b[0m \u001b[1;33m=\u001b[0m \u001b[0mlen\u001b[0m\u001b[1;33m(\u001b[0m\u001b[0munique\u001b[0m\u001b[1;33m(\u001b[0m\u001b[0mfilepath\u001b[0m\u001b[1;33m)\u001b[0m\u001b[1;33m)\u001b[0m\u001b[1;33m\u001b[0m\u001b[1;33m\u001b[0m\u001b[0m\n\u001b[0m\u001b[0;32m      3\u001b[0m     \u001b[1;32mreturn\u001b[0m \u001b[0mcount\u001b[0m\u001b[1;33m\u001b[0m\u001b[1;33m\u001b[0m\u001b[0m\n\u001b[0;32m      4\u001b[0m \u001b[0mcountLinesFile\u001b[0m\u001b[1;33m(\u001b[0m\u001b[0mfilepath\u001b[0m\u001b[1;33m)\u001b[0m\u001b[1;33m\u001b[0m\u001b[1;33m\u001b[0m\u001b[0m\n",
      "\u001b[1;31mTypeError\u001b[0m: object of type 'NoneType' has no len()"
     ]
    }
   ],
   "source": [
    "def countLinesFile(filepath):\n",
    "    count = len(unique(filepath))\n",
    "    return count\n",
    "countLinesFile(filepath)"
   ]
  },
  {
   "cell_type": "code",
   "execution_count": 5,
   "metadata": {},
   "outputs": [
    {
     "name": "stdout",
     "output_type": "stream",
     "text": [
      "['dftrytd', 'rtyty', 'rrytryy', 'etytuykfndjgnkjfdnv', 'mnkjfgjnv', 'mfnvkjdfvkj', 'bvdfkvjckxn', 'cnvbfkjnvdmzxc', 'nvbfkjvndm,vbvjnbncbdnbcdn', 'cnvfbvn', 'jyo', 'sin', 'dftrytd', 'rtyty', 'rrytryy']\n",
      "12\n"
     ]
    },
    {
     "ename": "TypeError",
     "evalue": "object of type 'NoneType' has no len()",
     "output_type": "error",
     "traceback": [
      "\u001b[1;31m---------------------------------------------------------------------------\u001b[0m",
      "\u001b[1;31mTypeError\u001b[0m                                 Traceback (most recent call last)",
      "\u001b[1;32m<ipython-input-5-9ec59a4b318d>\u001b[0m in \u001b[0;36m<module>\u001b[1;34m\u001b[0m\n\u001b[0;32m      2\u001b[0m     \u001b[0mcount\u001b[0m \u001b[1;33m=\u001b[0m \u001b[0mlen\u001b[0m\u001b[1;33m(\u001b[0m\u001b[0munique\u001b[0m\u001b[1;33m(\u001b[0m\u001b[0mfilepath\u001b[0m\u001b[1;33m)\u001b[0m\u001b[1;33m)\u001b[0m\u001b[1;33m\u001b[0m\u001b[1;33m\u001b[0m\u001b[0m\n\u001b[0;32m      3\u001b[0m     \u001b[1;32mreturn\u001b[0m \u001b[0mcount\u001b[0m\u001b[1;33m\u001b[0m\u001b[1;33m\u001b[0m\u001b[0m\n\u001b[1;32m----> 4\u001b[1;33m \u001b[0mcharCountFile\u001b[0m\u001b[1;33m(\u001b[0m\u001b[0mfilepath\u001b[0m\u001b[1;33m)\u001b[0m\u001b[1;33m\u001b[0m\u001b[1;33m\u001b[0m\u001b[0m\n\u001b[0m",
      "\u001b[1;32m<ipython-input-5-9ec59a4b318d>\u001b[0m in \u001b[0;36mcharCountFile\u001b[1;34m(filepath)\u001b[0m\n\u001b[0;32m      1\u001b[0m \u001b[1;32mdef\u001b[0m \u001b[0mcharCountFile\u001b[0m\u001b[1;33m(\u001b[0m\u001b[0mfilepath\u001b[0m\u001b[1;33m)\u001b[0m\u001b[1;33m:\u001b[0m\u001b[1;33m\u001b[0m\u001b[1;33m\u001b[0m\u001b[0m\n\u001b[1;32m----> 2\u001b[1;33m     \u001b[0mcount\u001b[0m \u001b[1;33m=\u001b[0m \u001b[0mlen\u001b[0m\u001b[1;33m(\u001b[0m\u001b[0munique\u001b[0m\u001b[1;33m(\u001b[0m\u001b[0mfilepath\u001b[0m\u001b[1;33m)\u001b[0m\u001b[1;33m)\u001b[0m\u001b[1;33m\u001b[0m\u001b[1;33m\u001b[0m\u001b[0m\n\u001b[0m\u001b[0;32m      3\u001b[0m     \u001b[1;32mreturn\u001b[0m \u001b[0mcount\u001b[0m\u001b[1;33m\u001b[0m\u001b[1;33m\u001b[0m\u001b[0m\n\u001b[0;32m      4\u001b[0m \u001b[0mcharCountFile\u001b[0m\u001b[1;33m(\u001b[0m\u001b[0mfilepath\u001b[0m\u001b[1;33m)\u001b[0m\u001b[1;33m\u001b[0m\u001b[1;33m\u001b[0m\u001b[0m\n",
      "\u001b[1;31mTypeError\u001b[0m: object of type 'NoneType' has no len()"
     ]
    }
   ],
   "source": [
    "def charCountFile(filepath):\n",
    "    count = len(unique(filepath))\n",
    "    return count\n",
    "charCountFile(filepath)"
   ]
  },
  {
   "cell_type": "code",
   "execution_count": 7,
   "metadata": {},
   "outputs": [
    {
     "name": "stdout",
     "output_type": "stream",
     "text": [
      "['dftrytd', 'rtyty', 'rrytryy', 'etytuykfndjgnkjfdnv', 'mnkjfgjnv', 'mfnvkjdfvkj', 'bvdfkvjckxn', 'cnvbfkjnvdmzxc', 'nvbfkjvndm,vbvjnbncbdnbcdn', 'cnvfbvn', 'jyo', 'sin', 'dftrytd', 'rtyty', 'rrytryy']\n",
      "12\n"
     ]
    },
    {
     "ename": "NameError",
     "evalue": "name 'Re' is not defined",
     "output_type": "error",
     "traceback": [
      "\u001b[1;31m---------------------------------------------------------------------------\u001b[0m",
      "\u001b[1;31mNameError\u001b[0m                                 Traceback (most recent call last)",
      "\u001b[1;32m<ipython-input-7-25f148fabff5>\u001b[0m in \u001b[0;36m<module>\u001b[1;34m\u001b[0m\n\u001b[0;32m      5\u001b[0m     \u001b[0mcount\u001b[0m \u001b[1;33m=\u001b[0m \u001b[0mlen\u001b[0m\u001b[1;33m(\u001b[0m\u001b[0mRe\u001b[0m\u001b[1;33m.\u001b[0m\u001b[0msplit\u001b[0m\u001b[1;33m(\u001b[0m\u001b[0mpattern\u001b[0m\u001b[1;33m,\u001b[0m \u001b[0mfiledata\u001b[0m\u001b[1;33m)\u001b[0m\u001b[1;33m)\u001b[0m\u001b[1;33m\u001b[0m\u001b[1;33m\u001b[0m\u001b[0m\n\u001b[0;32m      6\u001b[0m     \u001b[1;32mreturn\u001b[0m \u001b[0mcount\u001b[0m\u001b[1;33m\u001b[0m\u001b[1;33m\u001b[0m\u001b[0m\n\u001b[1;32m----> 7\u001b[1;33m \u001b[0mwordCountFile\u001b[0m\u001b[1;33m(\u001b[0m\u001b[0mfilepath\u001b[0m\u001b[1;33m)\u001b[0m\u001b[1;33m\u001b[0m\u001b[1;33m\u001b[0m\u001b[0m\n\u001b[0m",
      "\u001b[1;32m<ipython-input-7-25f148fabff5>\u001b[0m in \u001b[0;36mwordCountFile\u001b[1;34m(filepath)\u001b[0m\n\u001b[0;32m      3\u001b[0m     \u001b[0mpattern\u001b[0m \u001b[1;33m=\u001b[0m \u001b[1;34m'[ \\n]'\u001b[0m\u001b[1;33m\u001b[0m\u001b[1;33m\u001b[0m\u001b[0m\n\u001b[0;32m      4\u001b[0m     \u001b[0mfiledata\u001b[0m \u001b[1;33m=\u001b[0m \u001b[0munique\u001b[0m\u001b[1;33m(\u001b[0m\u001b[0mfilepath\u001b[0m\u001b[1;33m)\u001b[0m\u001b[1;33m\u001b[0m\u001b[1;33m\u001b[0m\u001b[0m\n\u001b[1;32m----> 5\u001b[1;33m     \u001b[0mcount\u001b[0m \u001b[1;33m=\u001b[0m \u001b[0mlen\u001b[0m\u001b[1;33m(\u001b[0m\u001b[0mRe\u001b[0m\u001b[1;33m.\u001b[0m\u001b[0msplit\u001b[0m\u001b[1;33m(\u001b[0m\u001b[0mpattern\u001b[0m\u001b[1;33m,\u001b[0m \u001b[0mfiledata\u001b[0m\u001b[1;33m)\u001b[0m\u001b[1;33m)\u001b[0m\u001b[1;33m\u001b[0m\u001b[1;33m\u001b[0m\u001b[0m\n\u001b[0m\u001b[0;32m      6\u001b[0m     \u001b[1;32mreturn\u001b[0m \u001b[0mcount\u001b[0m\u001b[1;33m\u001b[0m\u001b[1;33m\u001b[0m\u001b[0m\n\u001b[0;32m      7\u001b[0m \u001b[0mwordCountFile\u001b[0m\u001b[1;33m(\u001b[0m\u001b[0mfilepath\u001b[0m\u001b[1;33m)\u001b[0m\u001b[1;33m\u001b[0m\u001b[1;33m\u001b[0m\u001b[0m\n",
      "\u001b[1;31mNameError\u001b[0m: name 'Re' is not defined"
     ]
    }
   ],
   "source": [
    "import re\n",
    "def wordCountFile(filepath):\n",
    "    pattern = '[ \\n]'\n",
    "    filedata = unique(filepath)\n",
    "    count = len(Re.split(pattern, filedata))\n",
    "    return count\n",
    "wordCountFile(filepath)"
   ]
  },
  {
   "cell_type": "code",
   "execution_count": 14,
   "metadata": {},
   "outputs": [
    {
     "name": "stdout",
     "output_type": "stream",
     "text": [
      "3\n"
     ]
    },
    {
     "data": {
      "text/plain": [
       "[1, 2, 3]"
      ]
     },
     "execution_count": 14,
     "metadata": {},
     "output_type": "execute_result"
    }
   ],
   "source": [
    "### FUnction to get unique elements in a list:\n",
    "# [1,2,3,3,2,1] ->[1,2,3]\n",
    "# Create a unique list or an empty list\n",
    "def uniqueDaa(li):\n",
    "    # create an elemnt an empty unique list\n",
    "    unique = []\n",
    "    #for evert element in the main list ,check if it exists in the unique list\n",
    "    # If doesnot exist , add it to unique list\n",
    "    # else if it already eist, move on to the another \n",
    "    for element in li:\n",
    "        if element not in unique:\n",
    "            unique.append(element)\n",
    "    print(len(unique))\n",
    "    return unique\n",
    "li = [1,2,3,3,2,1]\n",
    "uniqueDaa(li)\n",
    " "
   ]
  },
  {
   "cell_type": "code",
   "execution_count": null,
   "metadata": {},
   "outputs": [],
   "source": [
    "# function to count the number of  unique words"
   ]
  },
  {
   "cell_type": "code",
   "execution_count": 20,
   "metadata": {},
   "outputs": [
    {
     "name": "stdout",
     "output_type": "stream",
     "text": [
      "Frequency of Data is : 3\n",
      "Frequency of in is : 3\n",
      "Frequency of Line is : 3\n",
      "Frequency of 1 is : 1\n",
      "Frequency of 2 is : 1\n",
      "Frequency of 3 is : 1\n"
     ]
    }
   ],
   "source": [
    "# Function to print the frequency count of a text file\n",
    "# Data in Line 1\n",
    "# Data in Line 2\n",
    "# Data in Line 3\n",
    "# o/p\n",
    "# Data : 3\n",
    "# in : 3\n",
    "# Line : 3\n",
    "# 1: 1\n",
    "# 2 : 1\n",
    "# 3 : 1\n",
    "def frequencyCount(filepath):\n",
    "    l = []\n",
    "    ul = []\n",
    "    count = 0\n",
    "    with open (filepath,'r') as f:\n",
    "        filedata = f.read()\n",
    "        l = filedata.split()\n",
    "        for i in l:\n",
    "            if i not in ul:\n",
    "                ul.append(i)  \n",
    "        for i in range(0, len(ul)):\n",
    "            print('Frequency of', ul[i], 'is :', l.count(ul[i]))     \n",
    "filepath = 'DataFiles/data.txt'\n",
    "frequencyCount(filepath)\n"
   ]
  },
  {
   "cell_type": "code",
   "execution_count": null,
   "metadata": {},
   "outputs": [],
   "source": []
  },
  {
   "cell_type": "code",
   "execution_count": null,
   "metadata": {},
   "outputs": [],
   "source": [
    "  "
   ]
  }
 ],
 "metadata": {
  "kernelspec": {
   "display_name": "Python 3",
   "language": "python",
   "name": "python3"
  },
  "language_info": {
   "codemirror_mode": {
    "name": "ipython",
    "version": 3
   },
   "file_extension": ".py",
   "mimetype": "text/x-python",
   "name": "python",
   "nbconvert_exporter": "python",
   "pygments_lexer": "ipython3",
   "version": "3.7.3"
  }
 },
 "nbformat": 4,
 "nbformat_minor": 2
}
