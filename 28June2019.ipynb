{
 "cells": [
  {
   "cell_type": "markdown",
   "metadata": {},
   "source": [
    "### Day Objective:\n",
    "- maps\n",
    "- lambda\n",
    "- Filter\n",
    "- use cases-File/Data encryption"
   ]
  },
  {
   "cell_type": "markdown",
   "metadata": {},
   "source": [
    "### Implementation of map in python:\n",
    "### Map:-\n",
    "- Mapping - Mapping between entity with function\n",
    "  -  f : x^2 \n",
    "  -  x : [1,10]\n",
    "  - f(x)\n",
    "  - f(1) -> 1\n",
    "  - f(2) -> 4\n",
    "  \n",
    "y=f(x)  \n",
    "x   y\n",
    "\n",
    "1   1\n",
    "\n",
    "2   4\n",
    "\n",
    "3   9\n",
    "\n",
    "4   16\n",
    "\n",
    "5   25\n",
    "\n",
    "6   36\n",
    "\n",
    "7   49\n",
    "\n",
    "8   64\n",
    "\n",
    "9   81\n",
    "\n",
    "10  100\n",
    "\n",
    "- map(function, Iterable)-> for every value of iterable and entity that value mapped"
   ]
  },
  {
   "cell_type": "code",
   "execution_count": 8,
   "metadata": {},
   "outputs": [
    {
     "data": {
      "text/plain": [
       "1024"
      ]
     },
     "execution_count": 8,
     "metadata": {},
     "output_type": "execute_result"
    }
   ],
   "source": [
    "def powerN(a,n):\n",
    "    # return a ** n\n",
    "    r = 1\n",
    "    for i in range(0,n):\n",
    "        r = r* a\n",
    "    return r\n",
    "powerN(2,10)\n",
    "def recursivepowerN(a,n):\n",
    "    if n == 0:\n",
    "        return 1\n",
    "    else:\n",
    "        return a*recursivepowerN(a,n-1)\n",
    "recursivepowerN(2,10)        "
   ]
  },
  {
   "cell_type": "code",
   "execution_count": 16,
   "metadata": {},
   "outputs": [
    {
     "data": {
      "text/plain": [
       "{1, 8, 27, 64, 125, 216}"
      ]
     },
     "execution_count": 16,
     "metadata": {},
     "output_type": "execute_result"
    }
   ],
   "source": [
    "def cube(n):\n",
    "    return n**3\n",
    "li = [1,2,3,4,5,6]\n",
    "set(map(cube,li))\n"
   ]
  },
  {
   "cell_type": "code",
   "execution_count": 21,
   "metadata": {},
   "outputs": [
    {
     "data": {
      "text/plain": [
       "{1860867}"
      ]
     },
     "execution_count": 21,
     "metadata": {},
     "output_type": "execute_result"
    }
   ],
   "source": [
    "def cube(n):\n",
    "    return n**3\n",
    "li = [1,2,3,4,5,6]\n",
    "set(map(cube,[123]))\n"
   ]
  },
  {
   "cell_type": "code",
   "execution_count": 24,
   "metadata": {},
   "outputs": [
    {
     "data": {
      "text/plain": [
       "{1, 2, 3, 4, 5, 6}"
      ]
     },
     "execution_count": 24,
     "metadata": {},
     "output_type": "execute_result"
    }
   ],
   "source": [
    "def cube(li):\n",
    "    return li**3\n",
    "    li = ['1','2','3','4','5','6']\n",
    "set(map(int,li))"
   ]
  },
  {
   "cell_type": "code",
   "execution_count": 19,
   "metadata": {},
   "outputs": [
    {
     "data": {
      "text/plain": [
       "{'1', '2', '3', '4', '5', '6'}"
      ]
     },
     "execution_count": 19,
     "metadata": {},
     "output_type": "execute_result"
    }
   ],
   "source": [
    "def cube(n):\n",
    "    return n**3\n",
    "li = ['1','2','3','4','5','6']\n",
    "li2 = list(map(int,li))\n",
    "set(map(str,li))"
   ]
  },
  {
   "cell_type": "code",
   "execution_count": 44,
   "metadata": {},
   "outputs": [
    {
     "data": {
      "text/plain": [
       "(1, 898, 68, 5, 14)"
      ]
     },
     "execution_count": 44,
     "metadata": {},
     "output_type": "execute_result"
    }
   ],
   "source": [
    "def numbers(n):\n",
    "    return n\n",
    "n = {1,1,1,14,5,68,898}\n",
    "i=list(map(str,n))\n",
    "tuple(list(map(int,i)))\n"
   ]
  },
  {
   "cell_type": "markdown",
   "metadata": {},
   "source": [
    "### Filter:\n",
    "- Used to check boolean values\n",
    "   - applied to function which iterates but it gives true or False"
   ]
  },
  {
   "cell_type": "code",
   "execution_count": 51,
   "metadata": {},
   "outputs": [
    {
     "data": {
      "text/plain": [
       "[1, 2, 3, 3]"
      ]
     },
     "execution_count": 51,
     "metadata": {},
     "output_type": "execute_result"
    }
   ],
   "source": [
    "li = [1,2,3,'a','b',3]\n",
    "def isdigit(c):\n",
    "    c=str(c)\n",
    "    if c.isdigit():\n",
    "        return True\n",
    "    return False\n",
    "isdigit('a')\n",
    "list(filter(isdigit,li))\n"
   ]
  },
  {
   "cell_type": "code",
   "execution_count": 54,
   "metadata": {},
   "outputs": [
    {
     "name": "stdout",
     "output_type": "stream",
     "text": [
      "[1, 2, 3, 'a', 'b', 3]\n"
     ]
    },
    {
     "data": {
      "text/plain": [
       "['a', 'b']"
      ]
     },
     "execution_count": 54,
     "metadata": {},
     "output_type": "execute_result"
    }
   ],
   "source": [
    "li = [1,2,3,'a','b',3]\n",
    "def isalpha(c):\n",
    "    c=str(c)\n",
    "    if c.isalpha():\n",
    "        return True\n",
    "    return False\n",
    "print(li)\n",
    "isalpha('a')\n",
    "list(filter(isalpha,li))\n"
   ]
  },
  {
   "cell_type": "code",
   "execution_count": 80,
   "metadata": {},
   "outputs": [
    {
     "data": {
      "text/plain": [
       "[503, 509, 521, 523, 541, 547, 557, 563, 569, 571, 577, 587, 593, 599]"
      ]
     },
     "execution_count": 80,
     "metadata": {},
     "output_type": "execute_result"
    }
   ],
   "source": [
    "# USe the filter function to identify all primes in agiven range\n",
    "li = [2,3,4,5,6,7,8,9,12,13,15,17]\n",
    "def isPrime(n):\n",
    "    if n < 2:\n",
    "        return False\n",
    "    for i in range(2,n//2 + 1):\n",
    "        if n%i == 0:\n",
    "            return False\n",
    "    return True\n",
    "lb, ub = 500,600\n",
    "primelist = list(filter(isPrime,range(lb,ub)))\n",
    "primelist"
   ]
  },
  {
   "cell_type": "code",
   "execution_count": 78,
   "metadata": {},
   "outputs": [
    {
     "name": "stdout",
     "output_type": "stream",
     "text": [
      "[503, 509, 521, 523, 541, 547, 557, 563, 569, 571, 577, 587, 593, 599]\n",
      "[503, 509, 521, 523, 541, 547, 557, 563, 569, 571, 577, 587, 593, 599]\n"
     ]
    }
   ],
   "source": [
    "primelist2 = [i for i in range(lb,ub+1) if isPrime(i)]\n",
    "# Maps fails for loops because it doesn t apply for checking conditions\n",
    "# List comprehension applies for maps and filter\n",
    "\n",
    "print(primelist)\n",
    "print(primelist2)"
   ]
  },
  {
   "cell_type": "markdown",
   "metadata": {},
   "source": [
    "### Lambda:\n",
    "- Anonymus Function(functions which dont have a name)\n",
    "- Can be embedded in to listcomrehension,maps,Filters also\n"
   ]
  },
  {
   "cell_type": "code",
   "execution_count": 88,
   "metadata": {},
   "outputs": [
    {
     "data": {
      "text/plain": [
       "27"
      ]
     },
     "execution_count": 88,
     "metadata": {},
     "output_type": "execute_result"
    }
   ],
   "source": [
    "a = lambda x: x**3\n",
    "a(3)"
   ]
  },
  {
   "cell_type": "code",
   "execution_count": 89,
   "metadata": {},
   "outputs": [
    {
     "data": {
      "text/plain": [
       "[1, 8, 27, 64, 125, 216]"
      ]
     },
     "execution_count": 89,
     "metadata": {},
     "output_type": "execute_result"
    }
   ],
   "source": [
    "list(map(lambda x: x**3,[1,2,3,4,5,6]))"
   ]
  },
  {
   "cell_type": "code",
   "execution_count": 90,
   "metadata": {},
   "outputs": [
    {
     "data": {
      "text/plain": [
       "[1, 8, 27, 64, 125, 216]"
      ]
     },
     "execution_count": 90,
     "metadata": {},
     "output_type": "execute_result"
    }
   ],
   "source": [
    "li = [1,2,3,4,5,6]\n",
    "list(map(lambda x: x**3,li))"
   ]
  },
  {
   "cell_type": "code",
   "execution_count": 92,
   "metadata": {},
   "outputs": [
    {
     "data": {
      "text/plain": [
       "[2, 4, 6]"
      ]
     },
     "execution_count": 92,
     "metadata": {},
     "output_type": "execute_result"
    }
   ],
   "source": [
    "list(filter(lambda x: x%2==0,[1,2,3,4,5,6]))"
   ]
  },
  {
   "cell_type": "code",
   "execution_count": 93,
   "metadata": {},
   "outputs": [
    {
     "data": {
      "text/plain": [
       "[1, 3, 5]"
      ]
     },
     "execution_count": 93,
     "metadata": {},
     "output_type": "execute_result"
    }
   ],
   "source": [
    "list(filter(lambda x: x%2,[1,2,3,4,5,6]))"
   ]
  },
  {
   "cell_type": "code",
   "execution_count": 98,
   "metadata": {},
   "outputs": [
    {
     "data": {
      "text/plain": [
       "[11.5, 12.5, 11.5, 14.0, 14.0, 8.5, 14.0, 12.0, 20.0, 20.5]"
      ]
     },
     "execution_count": 98,
     "metadata": {},
     "output_type": "execute_result"
    }
   ],
   "source": [
    "from random import randint\n",
    "internalmark1 = [randint(0,25) for i in range(10)]\n",
    "internalmark2 = [randint(0,25) for i in range(10)]\n",
    "averagemark=list(map(lambda x,y: (x+y)/2,internalmark1,internalmark2))\n",
    "averagemark"
   ]
  },
  {
   "cell_type": "code",
   "execution_count": 100,
   "metadata": {},
   "outputs": [
    {
     "data": {
      "text/plain": [
       "[8, 9, 4]"
      ]
     },
     "execution_count": 100,
     "metadata": {},
     "output_type": "execute_result"
    }
   ],
   "source": [
    "from random import randint\n",
    "internalmark1 = [randint(0,25) for i in range(10)]\n",
    "internalmark2 = [randint(0,25) for i in range(10)]\n",
    "internalmark3 = [randint(0,25) for i in range(10)]\n",
    "averagemark=list(map(lambda x,y,z: (x+y+z)//3,internalmark1,internalmark2,internalmark3))\n",
    "list(filter(lambda x: x<10,averagemark))"
   ]
  },
  {
   "cell_type": "code",
   "execution_count": 102,
   "metadata": {},
   "outputs": [
    {
     "data": {
      "text/plain": [
       "[8, 9, 12, 17, 4, 15, 24, 15, 20, 10]"
      ]
     },
     "execution_count": 102,
     "metadata": {},
     "output_type": "execute_result"
    }
   ],
   "source": [
    "list(filter(lambda x: x<35, averagemark))"
   ]
  },
  {
   "cell_type": "code",
   "execution_count": 103,
   "metadata": {},
   "outputs": [
    {
     "data": {
      "text/plain": [
       "[8, 9, 12, 17, 4, 15, 24, 15, 20, 10]"
      ]
     },
     "execution_count": 103,
     "metadata": {},
     "output_type": "execute_result"
    }
   ],
   "source": [
    "list(filter(lambda x: x<35, list(map(lambda x,y,z: (x+y+z)//3,internalmark1,internalmark2,internalmark3))))"
   ]
  },
  {
   "cell_type": "markdown",
   "metadata": {},
   "source": [
    "### Applying Functional programming to the marks Analysis Application"
   ]
  },
  {
   "cell_type": "code",
   "execution_count": 1,
   "metadata": {},
   "outputs": [],
   "source": [
    "# Generate MaarksData\n",
    "from random import randint\n",
    "def generateMarks(n,lb,ub):\n",
    "    filename = 'DataFiles/marks.txt'\n",
    "    with open (filename,'w') as f:\n",
    "        for i in range(n):\n",
    "            marks = randint(lb,ub)\n",
    "            f.write(str(marks)+'\\n')\n",
    "        return\n",
    "generateMarks(100000,0,100)\n",
    "        "
   ]
  },
  {
   "cell_type": "code",
   "execution_count": 121,
   "metadata": {},
   "outputs": [
    {
     "data": {
      "text/plain": [
       "50"
      ]
     },
     "execution_count": 121,
     "metadata": {},
     "output_type": "execute_result"
    }
   ],
   "source": [
    "# Marks analysis for class average ,% Passed and % failed,\n",
    "# % distinction ,Frequency of highest and lower marks\n",
    "# import re\n",
    "def classaverage(filepath):\n",
    "    with open (filepath,'r') as f:\n",
    "        filedata = f.read().split()\n",
    "        # markslist = re.split('\\n',filedata)\n",
    "    markslist = list(map(int,filedata))\n",
    "    return sum(markslist)//len(markslist)\n",
    "filename = 'DataFiles/marks.txt'\n",
    "classaverage(filename)"
   ]
  },
  {
   "cell_type": "code",
   "execution_count": 128,
   "metadata": {},
   "outputs": [
    {
     "data": {
      "text/plain": [
       "50"
      ]
     },
     "execution_count": 128,
     "metadata": {},
     "output_type": "execute_result"
    }
   ],
   "source": [
    "def readMarksList(filepath):\n",
    "    with open (filepath,'r') as f:\n",
    "        filedata = f.read().split()\n",
    "        # markslist = re.split('\\n',filedata)\n",
    "    return list(map(int,filedata))\n",
    "def classaverage(filepath):\n",
    "    markslist = readMarksList(filepath)\n",
    "    return sum(markslist)//len(markslist)\n",
    "filename = 'DataFiles/marks.txt'\n",
    "classaverage(filename)"
   ]
  },
  {
   "cell_type": "code",
   "execution_count": 126,
   "metadata": {},
   "outputs": [
    {
     "data": {
      "text/plain": [
       "117"
      ]
     },
     "execution_count": 126,
     "metadata": {},
     "output_type": "execute_result"
    }
   ],
   "source": [
    "def percentageFailed(filepath):\n",
    "    markslist = readMarksList(filepath)\n",
    "    failedcount=len(list(filter(lambda mark: mark<40, markslist)))\n",
    "    return failedcount\n",
    "percentageFailed(filepath)"
   ]
  },
  {
   "cell_type": "code",
   "execution_count": 127,
   "metadata": {},
   "outputs": [
    {
     "data": {
      "text/plain": [
       "-17"
      ]
     },
     "execution_count": 127,
     "metadata": {},
     "output_type": "execute_result"
    }
   ],
   "source": [
    "def percentagePassed(filepath):\n",
    "    return 100 - percentageFailed(filepath)\n",
    "percentagePassed(filepath)"
   ]
  },
  {
   "cell_type": "code",
   "execution_count": 133,
   "metadata": {},
   "outputs": [
    {
     "data": {
      "text/plain": [
       "29.666666666666668"
      ]
     },
     "execution_count": 133,
     "metadata": {},
     "output_type": "execute_result"
    }
   ],
   "source": [
    "def percentageDistinction(filepath):\n",
    "    markslist = readMarksList(filepath)\n",
    "    dis = len(list(filter(lambda x:x >70,markslist)))\n",
    "    return (dis/len(markslist))*100\n",
    "percentageDistinction(filepath)"
   ]
  },
  {
   "cell_type": "code",
   "execution_count": 130,
   "metadata": {},
   "outputs": [
    {
     "data": {
      "text/plain": [
       "4"
      ]
     },
     "execution_count": 130,
     "metadata": {},
     "output_type": "execute_result"
    }
   ],
   "source": [
    "def highestMarkFrreq(filepath):\n",
    "    markslist = readMarksList(filepath)\n",
    "    return markslist.count(max(markslist))\n",
    "highestMarkFrreq(filepath)"
   ]
  },
  {
   "cell_type": "code",
   "execution_count": 131,
   "metadata": {},
   "outputs": [
    {
     "data": {
      "text/plain": [
       "4"
      ]
     },
     "execution_count": 131,
     "metadata": {},
     "output_type": "execute_result"
    }
   ],
   "source": [
    "def lowestMarkFrreq(filepath):\n",
    "    markslist = readMarksList(filepath)\n",
    "    return markslist.count(min(markslist))\n",
    "lowestMarkFrreq(filepath)"
   ]
  },
  {
   "cell_type": "code",
   "execution_count": null,
   "metadata": {},
   "outputs": [],
   "source": []
  },
  {
   "cell_type": "markdown",
   "metadata": {},
   "source": [
    "###  Data Encryption:\n"
   ]
  },
  {
   "cell_type": "markdown",
   "metadata": {},
   "source": [
    "Encryption means the data which cannot be readed\n",
    "\n",
    "key - Mapping of charcters with replced with other charcter\n",
    "\n",
    "0 ->4\n",
    "1 ->5\n",
    "2 ->6\n",
    "3 ->7\n",
    "4 ->8\n",
    "5 ->9\n",
    "6 ->0\n",
    "7 ->1\n",
    "8 ->2\n",
    "9 ->3"
   ]
  },
  {
   "cell_type": "code",
   "execution_count": 135,
   "metadata": {},
   "outputs": [],
   "source": [
    "# Function to generate key for encryption\n",
    "keypath = 'DataFiles/key.txt'\n",
    "def genatekey(keypath):\n",
    "    with open(keypath,'w') as f:\n",
    "        for i in range(10):\n",
    "            if i < 6:\n",
    "                f.write(str(i)+ ' '+str(i+4)+ '\\n')\n",
    "            else:\n",
    "                f.write(str(i)+ ' '+str(i-6)+ '\\n')\n",
    "                \n",
    "genatekey(keypath)   \n"
   ]
  },
  {
   "cell_type": "code",
   "execution_count": 138,
   "metadata": {},
   "outputs": [
    {
     "data": {
      "text/plain": [
       "{'0': '4',\n",
       " '1': '5',\n",
       " '2': '6',\n",
       " '3': '7',\n",
       " '4': '8',\n",
       " '5': '9',\n",
       " '6': '0',\n",
       " '7': '1',\n",
       " '8': '2',\n",
       " '9': '3'}"
      ]
     },
     "execution_count": 138,
     "metadata": {},
     "output_type": "execute_result"
    }
   ],
   "source": [
    "# FUnction to encrypt a data file\n",
    "keyfile = 'DataFiles/key.txt'\n",
    "def dictionarykeyfile(keyfile):\n",
    "    key = {}\n",
    "    with open(keyfile, 'r') as f:\n",
    "        for line in f:\n",
    "            line = line.split()\n",
    "            key[line[0]] = line[1]\n",
    "    return key\n",
    "dictionarykeyfile(keyfile)\n",
    "\n",
    "    # construct a dictionary for key data"
   ]
  },
  {
   "cell_type": "code",
   "execution_count": null,
   "metadata": {},
   "outputs": [],
   "source": [
    "def encryptMarksData(datafile,keyfile)"
   ]
  },
  {
   "cell_type": "code",
   "execution_count": 1,
   "metadata": {},
   "outputs": [
    {
     "name": "stdout",
     "output_type": "stream",
     "text": [
      "100 200 3000 56 7686\n",
      "150\n"
     ]
    }
   ],
   "source": [
    "def avg(num):\n",
    "    unique =[]\n",
    "    sum = 0\n",
    "    count = 0\n",
    "    for i in num:\n",
    "        if i not in unique:\n",
    "            unique.append(i)\n",
    "    for s in unique:\n",
    "        if s>99 and s<999:\n",
    "            count = count+1\n",
    "            sum = sum+s\n",
    "    print(sum//count)\n",
    "n=input().split()\n",
    "num =list(map(int,n))\n",
    "avg(num)"
   ]
  },
  {
   "cell_type": "code",
   "execution_count": null,
   "metadata": {},
   "outputs": [],
   "source": [
    "def remainder(n):\n",
    "    d = []\n",
    "    for i in range(1,n):\n",
    "        remainder = n%i\n",
    "        if remainder != 0:\n",
    "            d.append(remainder)\n",
    "        s = d.sort()\n",
    "        m =s[::-1]\n",
    "    return m[0]\n",
    "    \n",
    "    \n",
    "n= int(input())\n",
    "for i in range(n):\n",
    "    s = input()\n",
    "    li = s.split()\n",
    "    li1 = list(map(int,li))\n",
    "remainder(n)\n",
    "    "
   ]
  },
  {
   "cell_type": "code",
   "execution_count": null,
   "metadata": {},
   "outputs": [],
   "source": []
  },
  {
   "cell_type": "code",
   "execution_count": null,
   "metadata": {},
   "outputs": [],
   "source": []
  }
 ],
 "metadata": {
  "kernelspec": {
   "display_name": "Python 3",
   "language": "python",
   "name": "python3"
  },
  "language_info": {
   "codemirror_mode": {
    "name": "ipython",
    "version": 3
   },
   "file_extension": ".py",
   "mimetype": "text/x-python",
   "name": "python",
   "nbconvert_exporter": "python",
   "pygments_lexer": "ipython3",
   "version": "3.7.3"
  }
 },
 "nbformat": 4,
 "nbformat_minor": 2
}
