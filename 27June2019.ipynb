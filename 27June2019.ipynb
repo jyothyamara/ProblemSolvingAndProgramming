{
 "cells": [
  {
   "cell_type": "code",
   "execution_count": 7,
   "metadata": {},
   "outputs": [
    {
     "name": "stdout",
     "output_type": "stream",
     "text": [
      "1 2\n",
      "1 3\n",
      "1 4\n",
      "2 3\n",
      "2 4\n",
      "3 4\n"
     ]
    }
   ],
   "source": [
    "# Function to print all the combinations of pairs of Integers in a unique list\n",
    "# [1,2,3] ->(1,2),(1,3),(2,3) ->3c2 ->3!/((3-2)!-2!)\n",
    "# [1,2,3,4]->(1,2),(1,3),(1,4),(2,3),(2,4),(3,4)bb\n",
    "def combinations(li):\n",
    "    for i in range(len(li)-1):\n",
    "        for j in range(i+1, len(li)):\n",
    "            print(li[i],li[j])\n",
    "    return \n",
    "combinations([1,2,3,4])\n",
    "    "
   ]
  },
  {
   "cell_type": "code",
   "execution_count": 11,
   "metadata": {},
   "outputs": [
    {
     "name": "stdout",
     "output_type": "stream",
     "text": [
      "1 2 3\n",
      "1 2 4\n",
      "1 2 5\n",
      "1 2 3\n",
      "1 3 4\n",
      "1 3 5\n",
      "1 3 3\n",
      "1 4 5\n",
      "1 4 3\n",
      "1 5 3\n",
      "2 3 4\n",
      "2 3 5\n",
      "2 3 3\n",
      "2 4 5\n",
      "2 4 3\n",
      "2 5 3\n",
      "3 4 5\n",
      "3 4 3\n",
      "3 5 3\n",
      "4 5 3\n"
     ]
    }
   ],
   "source": [
    "def combinations3(li):\n",
    "    for i in range(len(li)-1):\n",
    "        for j in range(i+1, len(li)):\n",
    "            for k in range(j+1,len(li)):\n",
    "                print(li[i],li[j],li[k])\n",
    "    return \n",
    "combinations3([1,2,3,4,5,3])"
   ]
  },
  {
   "cell_type": "code",
   "execution_count": 18,
   "metadata": {},
   "outputs": [
    {
     "data": {
      "text/plain": [
       "[1, 9, 8, 7, 2]"
      ]
     },
     "execution_count": 18,
     "metadata": {},
     "output_type": "execute_result"
    }
   ],
   "source": [
    "#\n",
    "def differencePairs(li):\n",
    "    for i in range(len(li)-1):\n",
    "        for j in range(i+1, len(li)):\n",
    "            d = abs(li[i]-li[j])\n",
    "            if d not in li:\n",
    "                li.append(d)\n",
    "    return li\n",
    "li = [1,9,8]\n",
    "differencePairs(li)\n",
    "    "
   ]
  },
  {
   "cell_type": "code",
   "execution_count": 21,
   "metadata": {},
   "outputs": [
    {
     "data": {
      "text/plain": [
       "[1, 2, 8, 7, 6]"
      ]
     },
     "execution_count": 21,
     "metadata": {},
     "output_type": "execute_result"
    }
   ],
   "source": [
    "def medium(li):\n",
    "    while(True):\n",
    "        li2 = differencePairs(li)\n",
    "        if len(li2) == 0:\n",
    "            break\n",
    "    return\n",
    "        \n",
    "def differencePairs(li):\n",
    "    newelements = []\n",
    "    for i in range(len(li)-1):\n",
    "        for j in range(i+1, len(li)):\n",
    "            d = abs(li[i]-li[j])\n",
    "            if d not in li:\n",
    "                newelements.append(d)\n",
    "    li.extend(newelements)\n",
    "    return li\n",
    "li = [1,2,8]\n",
    "differencePairs(li)\n",
    "    \n",
    "        "
   ]
  },
  {
   "cell_type": "code",
   "execution_count": 22,
   "metadata": {},
   "outputs": [
    {
     "data": {
      "text/plain": [
       "[1, 2, 8, 7, 6]"
      ]
     },
     "execution_count": 22,
     "metadata": {},
     "output_type": "execute_result"
    }
   ],
   "source": [
    "def medium(li):\n",
    "    while(True):\n",
    "        li3 =[]\n",
    "        li2 = differencePairs(li)\n",
    "       \n",
    "    return li\n",
    "        \n",
    "def differencePairs(li):\n",
    "    newelements = []\n",
    "    for i in range(len(li)-1):\n",
    "        for j in range(i+1, len(li)):\n",
    "            d = abs(li[i]-li[j])\n",
    "            if d not in li:\n",
    "                newelements.append(d)\n",
    "    li.extend(newelements)\n",
    "    return li\n",
    "li = [1,2,8]\n",
    "differencePairs(li)"
   ]
  },
  {
   "cell_type": "code",
   "execution_count": 1,
   "metadata": {},
   "outputs": [
    {
     "data": {
      "text/plain": [
       "[1, 2, 8, 7, 6]"
      ]
     },
     "execution_count": 1,
     "metadata": {},
     "output_type": "execute_result"
    }
   ],
   "source": [
    "def medium(li):\n",
    "    li3 = []\n",
    "    while(True):\n",
    "        li3 = differencePairs(li)\n",
    "        if li3[0] == li3[1]:\n",
    "            break\n",
    "       \n",
    "    return li\n",
    "        \n",
    "def differencePairs(li):\n",
    "    newelements = []\n",
    "    for i in range(len(li)-1):\n",
    "        for j in range(i+1, len(li)):\n",
    "            d = abs(li[i]-li[j])\n",
    "            if d not in li:\n",
    "                newelements.append(d)\n",
    "    li.extend(newelements)\n",
    "    return li\n",
    "li = [1,2,8]\n",
    "differencePairs(li)"
   ]
  },
  {
   "cell_type": "code",
   "execution_count": 14,
   "metadata": {},
   "outputs": [
    {
     "data": {
      "text/plain": [
       "[1, 2, 8, 7, 6]"
      ]
     },
     "execution_count": 14,
     "metadata": {},
     "output_type": "execute_result"
    }
   ],
   "source": [
    "def combinations(li):\n",
    "    for i in range(len(li)-1):\n",
    "        for j in range(j+1, len(li)):\n",
    "            print(li[i],li[j])\n",
    "    return \n",
    "def differencePairs(li):\n",
    "    newelements =[]\n",
    "    \n",
    "    for i in range(len(li)-1):\n",
    "        for j in range(i+1, len(li)):\n",
    "            d = abs(li[i]-li[j])\n",
    "            if d not in li:\n",
    "                newelements.append(d)\n",
    "    li.extend(newelements)\n",
    "    return li\n",
    "li = [1,2,8]\n",
    "differencePairs(li)"
   ]
  },
  {
   "cell_type": "code",
   "execution_count": 17,
   "metadata": {},
   "outputs": [
    {
     "data": {
      "text/plain": [
       "3"
      ]
     },
     "execution_count": 17,
     "metadata": {},
     "output_type": "execute_result"
    }
   ],
   "source": [
    "li = [1,2,3,4]\n",
    "len(li)-1"
   ]
  },
  {
   "cell_type": "code",
   "execution_count": 22,
   "metadata": {},
   "outputs": [
    {
     "name": "stdout",
     "output_type": "stream",
     "text": [
      "1 2\n",
      "1 3\n",
      "1 4\n",
      "2 3\n",
      "2 4\n",
      "3 4\n"
     ]
    }
   ],
   "source": [
    " for i in range(len(li)):\n",
    "        for j in range(i+1, len(li)):\n",
    "            print(li[i],li[j])"
   ]
  },
  {
   "cell_type": "code",
   "execution_count": 2,
   "metadata": {},
   "outputs": [
    {
     "data": {
      "text/plain": [
       "[3, 8, 15, 5, 12, 2, 9, 1, 6, 7, 4, 10, 13, 14, 11]"
      ]
     },
     "execution_count": 2,
     "metadata": {},
     "output_type": "execute_result"
    }
   ],
   "source": [
    "def problem(li):\n",
    "    for i in range(len(li)):\n",
    "        for j in range(i+1, len(li)):\n",
    "            d = abs(li[i]-li[j])\n",
    "            if d not in li:\n",
    "                li.append(d)\n",
    "                problem(li)\n",
    "    return li\n",
    "\n",
    "problem([3,8,15])"
   ]
  },
  {
   "cell_type": "code",
   "execution_count": 15,
   "metadata": {},
   "outputs": [
    {
     "data": {
      "text/plain": [
       "[[2, 6, 3, 9, 12], [2, 6, 3, 9, 12, 4, 1, 7, 10]]"
      ]
     },
     "execution_count": 15,
     "metadata": {},
     "output_type": "execute_result"
    }
   ],
   "source": [
    "def problem(li):\n",
    "    c = li.copy()\n",
    "    newelements =[]\n",
    "    for i in range(len(li)):\n",
    "        for j in range(i+1, len(li)):\n",
    "            d = abs(li[i]-li[j])\n",
    "            if d not in li and d not in newelements:\n",
    "                newelements.append(d)\n",
    "    li.extend(newelements)\n",
    "    return [c,li]\n",
    "                \n",
    "    \n",
    "\n",
    "problem([2,6,3,9,12])"
   ]
  },
  {
   "cell_type": "code",
   "execution_count": null,
   "metadata": {},
   "outputs": [],
   "source": [
    "# Convert the list in to an arithmatic progression\n",
    "# [3,8,15] -> [3, 8, 15, 5, 12, 2, 9, 1, 6, 7, 4, 10, 13, 14, 11]"
   ]
  },
  {
   "cell_type": "code",
   "execution_count": 4,
   "metadata": {},
   "outputs": [
    {
     "data": {
      "text/plain": [
       "[1, 2, 3]"
      ]
     },
     "execution_count": 4,
     "metadata": {},
     "output_type": "execute_result"
    }
   ],
   "source": [
    "a =[1,3,2]\n",
    "b =[1,2,3]\n",
    "a = b.copy() # data copy through indirect referncing\n",
    "a = b # data copy through directreferncing\n",
    "b"
   ]
  },
  {
   "cell_type": "code",
   "execution_count": null,
   "metadata": {},
   "outputs": [],
   "source": []
  },
  {
   "cell_type": "markdown",
   "metadata": {},
   "source": [
    "### Set -  Data Structure in python\n",
    "- Represented by '{}'\n",
    "- It contains only unique elements if any repeated data may deleted\n",
    "    - eg: a = {1,2,3,4,5,6,6} -> {1,2,3,4,5}\n",
    "- Set is a mutable we can add delete the data\n",
    "- In Set we can  add the dataa by ussing add function  In list we use append method\n",
    "    - eg: a.add(7)\n",
    "- We can access a element in the set\n",
    "    - for i in a:\n",
    "       print(i,end = \" \") -> 1 2 3 4 5 6 7\n",
    "- We can update the values \n",
    "    - eg: b={7,8,9,1,2,3} # here the duplicate elementss will be removed\n",
    "    - li = {3,4,5,6,8,5,43}\n",
    "    - a.update(b,li)\n",
    "    - a -> {1,2,3,4,5,6,7,8,9}\n",
    "- We Can delete the values by using remove and discard function\n",
    "    - eg: -> a.discard(78)\n",
    "- union,intersection,isdisjection\n",
    "    - a ={2,4,65,78}\n",
    "      b={7,8,9,1,2,3} \n",
    "      a.union(b) -> {1, 2, 3, 4, 7, 8, 9, 65, 78}\n",
    "    - a ={2,4,65,78}\n",
    "      b={7,8,9,1,2,3} \n",
    "      a.intersection(b) -> {2}\n",
    "    - a ={2,4,65,78}\n",
    "      b={7,8,9,1,2,3} \n",
    "      c={113,234}\n",
    "      a.isdisjoint(c) -> True\n",
    "    - a-b -> {4, 65, 78}\n",
    "    - a ^ b # uncommon elements in either a and b ->{1, 3, 4, 7, 8, 9, 65, 78}\n",
    "    - d = set() # Create an empty set -> set()\n",
    "    - li = [1,2,3,4,2,1,2,3,4]\n",
    "      u = set(li)\n",
    "      u -> {1,2,3,4}6\n",
    "    \n",
    "\n",
    "      \n",
    "     \n",
    "    \n",
    " \n"
   ]
  },
  {
   "cell_type": "code",
   "execution_count": 24,
   "metadata": {},
   "outputs": [
    {
     "data": {
      "text/plain": [
       "{1, 2, 3, 4, 5, 6, 7, 8, 9, 43, 65}"
      ]
     },
     "execution_count": 24,
     "metadata": {},
     "output_type": "execute_result"
    }
   ],
   "source": [
    "a ={2,4,65,78}\n",
    "b={7,8,9,1,2,3} \n",
    "li = {3,4,5,6,8,5,43}\n",
    "a.update(b,li)\n",
    "a.discard(78)\n",
    "a.discard(li)\n",
    "a.union(b)"
   ]
  },
  {
   "cell_type": "code",
   "execution_count": 25,
   "metadata": {},
   "outputs": [
    {
     "data": {
      "text/plain": [
       "{1, 2, 3, 4, 7, 8, 9, 65, 78}"
      ]
     },
     "execution_count": 25,
     "metadata": {},
     "output_type": "execute_result"
    }
   ],
   "source": [
    "a ={2,4,65,78}\n",
    "b={7,8,9,1,2,3} \n",
    "a.union(b)"
   ]
  },
  {
   "cell_type": "code",
   "execution_count": 27,
   "metadata": {},
   "outputs": [
    {
     "data": {
      "text/plain": [
       "{2}"
      ]
     },
     "execution_count": 27,
     "metadata": {},
     "output_type": "execute_result"
    }
   ],
   "source": [
    "a ={2,4,65,78}\n",
    "b={7,8,9,1,2,3} \n",
    "a.intersection(b)"
   ]
  },
  {
   "cell_type": "code",
   "execution_count": 31,
   "metadata": {},
   "outputs": [
    {
     "data": {
      "text/plain": [
       "True"
      ]
     },
     "execution_count": 31,
     "metadata": {},
     "output_type": "execute_result"
    }
   ],
   "source": [
    "a ={2,4,65,78}\n",
    "b={7,8,9,1,2,3} \n",
    "c={113,234}\n",
    "a.isdisjoint(c)"
   ]
  },
  {
   "cell_type": "code",
   "execution_count": 32,
   "metadata": {},
   "outputs": [
    {
     "data": {
      "text/plain": [
       "{4, 65, 78}"
      ]
     },
     "execution_count": 32,
     "metadata": {},
     "output_type": "execute_result"
    }
   ],
   "source": [
    "a-b # all elements in a which are not in b\n"
   ]
  },
  {
   "cell_type": "code",
   "execution_count": 33,
   "metadata": {},
   "outputs": [
    {
     "data": {
      "text/plain": [
       "{1, 3, 4, 7, 8, 9, 65, 78}"
      ]
     },
     "execution_count": 33,
     "metadata": {},
     "output_type": "execute_result"
    }
   ],
   "source": [
    "a ^ b # uncommon elements in either a and b"
   ]
  },
  {
   "cell_type": "code",
   "execution_count": 35,
   "metadata": {},
   "outputs": [
    {
     "data": {
      "text/plain": [
       "{1, 3, 7, 8, 9}"
      ]
     },
     "execution_count": 35,
     "metadata": {},
     "output_type": "execute_result"
    }
   ],
   "source": [
    "b - a # all elements in b which are not in a\n",
    "#b-a = b.intersection(a)"
   ]
  },
  {
   "cell_type": "code",
   "execution_count": 36,
   "metadata": {},
   "outputs": [
    {
     "data": {
      "text/plain": [
       "set()"
      ]
     },
     "execution_count": 36,
     "metadata": {},
     "output_type": "execute_result"
    }
   ],
   "source": [
    "d = set() # Create an empty set\n",
    "d"
   ]
  },
  {
   "cell_type": "code",
   "execution_count": 37,
   "metadata": {},
   "outputs": [
    {
     "data": {
      "text/plain": [
       "{1, 2, 3, 4}"
      ]
     },
     "execution_count": 37,
     "metadata": {},
     "output_type": "execute_result"
    }
   ],
   "source": [
    "li = [1,2,3,4,2,1,2,3,4]\n",
    "u = set(li)\n",
    "u"
   ]
  },
  {
   "cell_type": "markdown",
   "metadata": {},
   "source": [
    "procedural : c\n",
    "\n",
    "Object oriented : Java , python\n",
    "\n",
    "Scripting : PHP,Python, JavaScript, Shell, Perl\n",
    "\n",
    "Functional : Python,Haskell, Scala\n",
    "\n",
    "Logic : Prolog, Lisp"
   ]
  },
  {
   "cell_type": "markdown",
   "metadata": {},
   "source": [
    "### List comprehensions:\n"
   ]
  },
  {
   "cell_type": "code",
   "execution_count": 43,
   "metadata": {},
   "outputs": [
    {
     "data": {
      "text/plain": [
       "[1, 2, 3, 4, 5, 6, 7, 8, 9, 10]"
      ]
     },
     "execution_count": 43,
     "metadata": {},
     "output_type": "execute_result"
    }
   ],
   "source": [
    "# List of n natural numbers\n",
    "n = 10\n",
    "li = []\n",
    "for i in range(1,n+1):\n",
    "    li.append(i)\n",
    "li"
   ]
  },
  {
   "cell_type": "code",
   "execution_count": 44,
   "metadata": {},
   "outputs": [
    {
     "data": {
      "text/plain": [
       "[1, 2, 3, 4, 5, 6, 7, 8, 9, 10]"
      ]
     },
     "execution_count": 44,
     "metadata": {},
     "output_type": "execute_result"
    }
   ],
   "source": [
    "li = [i for i in range(1,11)]\n",
    "li"
   ]
  },
  {
   "cell_type": "code",
   "execution_count": 49,
   "metadata": {},
   "outputs": [
    {
     "data": {
      "text/plain": [
       "[1, 8, 27, 64, 125, 216, 343, 512, 729, 1000]"
      ]
     },
     "execution_count": 49,
     "metadata": {},
     "output_type": "execute_result"
    }
   ],
   "source": [
    "# Apply List comprehension to store the the cubes of n natural numbers\n",
    "li = [i**3 for i in range(1,11)]\n",
    "li"
   ]
  },
  {
   "cell_type": "code",
   "execution_count": 64,
   "metadata": {},
   "outputs": [
    {
     "data": {
      "text/plain": [
       "[1, 2, 6, 24, 120, 720, 5040, 40320, 362880, 3628800]"
      ]
     },
     "execution_count": 64,
     "metadata": {},
     "output_type": "execute_result"
    }
   ],
   "source": [
    "# Function to caluclate the factorial\n",
    "def factorial(n):\n",
    "    if n == 0 or n == 1:\n",
    "        return 1\n",
    "    return n*factorial(n-1)\n",
    "# Apply list comrehension to caluclate factorial of n natural numbers\n",
    "\n",
    "n=10\n",
    "factoriallist = [factorial(i) for i in range(1,n+1)]\n",
    "factoriallist\n"
   ]
  },
  {
   "cell_type": "code",
   "execution_count": 69,
   "metadata": {},
   "outputs": [
    {
     "data": {
      "text/plain": [
       "[1, 3, 6, 10, 15]"
      ]
     },
     "execution_count": 69,
     "metadata": {},
     "output_type": "execute_result"
    }
   ],
   "source": [
    "# Store cummulative sum of numbers till n in a list\n",
    "def cummulativeFunction(n):\n",
    "    sum = 0\n",
    "    for i in range(1,n+1):\n",
    "        sum = sum+i\n",
    "    return sum\n",
    "n=5\n",
    "sumlist = [cummulativeFunction(i) for i in range(1,n+1)]\n",
    "sumlist\n",
    "        "
   ]
  },
  {
   "cell_type": "code",
   "execution_count": 78,
   "metadata": {},
   "outputs": [
    {
     "data": {
      "text/plain": [
       "[1, 3, 6, 10, 15]"
      ]
     },
     "execution_count": 78,
     "metadata": {},
     "output_type": "execute_result"
    }
   ],
   "source": [
    "n =5\n",
    "li = [sum(range(1,i+1)) for i in range(1,n+1)]\n",
    "li"
   ]
  },
  {
   "cell_type": "code",
   "execution_count": 90,
   "metadata": {},
   "outputs": [
    {
     "data": {
      "text/plain": [
       "[1992, 1996, 2000]"
      ]
     },
     "execution_count": 90,
     "metadata": {},
     "output_type": "execute_result"
    }
   ],
   "source": [
    "# Function to Store only leapyears in a given time range:\n",
    "st =1990\n",
    "en = 2000\n",
    "ly= [i for i in range (st, en+1) if i % 400 == 0 or(i % 100 !=0 and i%4 == 0)]\n",
    "ly    "
   ]
  },
  {
   "cell_type": "code",
   "execution_count": 112,
   "metadata": {},
   "outputs": [
    {
     "data": {
      "text/plain": [
       "[1, 2, 3]"
      ]
     },
     "execution_count": 112,
     "metadata": {},
     "output_type": "execute_result"
    }
   ],
   "source": [
    "# printing unique charcters\n",
    "li = [1,2,3,2,1]\n",
    "unique = []\n",
    "u2 =[]\n",
    "unique= [u2.append(i) for i in li if i not in u2]\n",
    "u2\n"
   ]
  },
  {
   "cell_type": "markdown",
   "metadata": {},
   "source": [
    "### Iterators:\n",
    "\n",
    "Iterable -Strings, Lists, Tuples, Sets, Dictionaries\n",
    "\n",
    "Convert to Iterator -> iter()\n",
    "For Loop: Untill some condition is reached\n",
    "- Iteration : During execution it will stop any of the time and start exution with continued value\n",
    "  - The advantage of iterator is we can resume and start the Iteration\n",
    "  - All iterators have next function\n",
    "\n"
   ]
  },
  {
   "cell_type": "code",
   "execution_count": 138,
   "metadata": {},
   "outputs": [
    {
     "name": "stdout",
     "output_type": "stream",
     "text": [
      "p\n",
      "y\n",
      "t\n"
     ]
    }
   ],
   "source": [
    "it = iter('python')\n",
    "print(next(it))\n",
    "print(next(it))\n",
    "print(next(it))\n",
    "\n",
    "\n",
    "\n"
   ]
  },
  {
   "cell_type": "markdown",
   "metadata": {},
   "source": [
    "### Generators\n",
    "\n",
    "Generator is a function\n",
    "yield something that gives patricular number as n\n"
   ]
  },
  {
   "cell_type": "code",
   "execution_count": 8,
   "metadata": {},
   "outputs": [
    {
     "data": {
      "text/plain": [
       "512"
      ]
     },
     "execution_count": 8,
     "metadata": {},
     "output_type": "execute_result"
    }
   ],
   "source": [
    "\n",
    "def genrator():\n",
    "    n=2\n",
    "    yield n\n",
    "    \n",
    "    n = n ** 3\n",
    "    yield n\n",
    "    \n",
    "    n = n**3\n",
    "    yield n\n",
    "    \n",
    "a = genrator()  \n",
    "next(a)\n",
    "next(a)\n",
    "next(a)\n"
   ]
  },
  {
   "cell_type": "code",
   "execution_count": 9,
   "metadata": {},
   "outputs": [
    {
     "data": {
      "text/plain": [
       "512"
      ]
     },
     "execution_count": 9,
     "metadata": {},
     "output_type": "execute_result"
    }
   ],
   "source": [
    "def genrator():\n",
    "    n=2\n",
    "    for i in range(1,5):\n",
    "        n **= 3\n",
    "        yield n\n",
    "a = genrator()  \n",
    "next(a)\n",
    "next(a)"
   ]
  },
  {
   "cell_type": "code",
   "execution_count": 12,
   "metadata": {},
   "outputs": [
    {
     "data": {
      "text/plain": [
       "35184372088832"
      ]
     },
     "execution_count": 12,
     "metadata": {},
     "output_type": "execute_result"
    }
   ],
   "source": [
    "def genrator():\n",
    "    n=2\n",
    "    while True:\n",
    "        n **= 3\n",
    "        yield n\n",
    "a = genrator()  \n",
    "next(a)\n",
    "b = next(a) ** 2\n",
    "b *= next(a)\n",
    "b"
   ]
  },
  {
   "cell_type": "code",
   "execution_count": 14,
   "metadata": {},
   "outputs": [
    {
     "name": "stdout",
     "output_type": "stream",
     "text": [
      "8\n",
      "512\n",
      "134217728\n",
      "2417851639229258349412352\n",
      "14134776518227074636666380005943348126619871175004951664972849610340958208\n"
     ]
    },
    {
     "data": {
      "text/plain": [
       "2824013958708217496949108842204627863351353911851577524683401930862693830361198499905873920995229996970897865498283996578123296865878390947626553088486946106430796091482716120572632072492703527723757359478834530365734912"
      ]
     },
     "execution_count": 14,
     "metadata": {},
     "output_type": "execute_result"
    }
   ],
   "source": [
    "def genrator():\n",
    "    n=2\n",
    "    while True:\n",
    "        n **= 3\n",
    "        yield n\n",
    "a = genrator()  \n",
    "for i in range(5):\n",
    "    print(next(a))\n",
    "next(a)"
   ]
  },
  {
   "cell_type": "code",
   "execution_count": null,
   "metadata": {},
   "outputs": [],
   "source": []
  }
 ],
 "metadata": {
  "kernelspec": {
   "display_name": "Python 3",
   "language": "python",
   "name": "python3"
  },
  "language_info": {
   "codemirror_mode": {
    "name": "ipython",
    "version": 3
   },
   "file_extension": ".py",
   "mimetype": "text/x-python",
   "name": "python",
   "nbconvert_exporter": "python",
   "pygments_lexer": "ipython3",
   "version": "3.7.3"
  }
 },
 "nbformat": 4,
 "nbformat_minor": 2
}
