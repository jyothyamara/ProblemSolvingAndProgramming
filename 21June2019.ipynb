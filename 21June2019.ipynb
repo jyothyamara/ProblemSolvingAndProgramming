{
 "cells": [
  {
   "cell_type": "code",
   "execution_count": 3,
   "metadata": {},
   "outputs": [
    {
     "name": "stdout",
     "output_type": "stream",
     "text": [
      "180\n",
      "3\n",
      "620 340\n",
      "120 180\n",
      "180 180\n"
     ]
    },
    {
     "ename": "TypeError",
     "evalue": "'<' not supported between instances of 'list' and 'int'",
     "output_type": "error",
     "traceback": [
      "\u001b[1;31m---------------------------------------------------------------------------\u001b[0m",
      "\u001b[1;31mTypeError\u001b[0m                                 Traceback (most recent call last)",
      "\u001b[1;32m<ipython-input-3-a55b4b28fd13>\u001b[0m in \u001b[0;36m<module>\u001b[1;34m\u001b[0m\n\u001b[0;32m     20\u001b[0m     \u001b[0mw\u001b[0m \u001b[1;33m=\u001b[0m \u001b[0ms\u001b[0m\u001b[1;33m[\u001b[0m\u001b[1;36m0\u001b[0m\u001b[1;33m]\u001b[0m\u001b[1;33m\u001b[0m\u001b[1;33m\u001b[0m\u001b[0m\n\u001b[0;32m     21\u001b[0m     \u001b[0mh\u001b[0m \u001b[1;33m=\u001b[0m \u001b[0ms\u001b[0m\u001b[1;33m[\u001b[0m\u001b[1;36m1\u001b[0m\u001b[1;33m]\u001b[0m\u001b[1;33m\u001b[0m\u001b[1;33m\u001b[0m\u001b[0m\n\u001b[1;32m---> 22\u001b[1;33m \u001b[0mphotoPrinting\u001b[0m\u001b[1;33m(\u001b[0m\u001b[0ml\u001b[0m\u001b[1;33m,\u001b[0m\u001b[0mn\u001b[0m\u001b[1;33m,\u001b[0m\u001b[0ms\u001b[0m\u001b[1;33m)\u001b[0m\u001b[1;33m\u001b[0m\u001b[1;33m\u001b[0m\u001b[0m\n\u001b[0m",
      "\u001b[1;32m<ipython-input-3-a55b4b28fd13>\u001b[0m in \u001b[0;36mphotoPrinting\u001b[1;34m(l, n, s)\u001b[0m\n\u001b[0;32m      1\u001b[0m \u001b[1;32mdef\u001b[0m \u001b[0mphotoPrinting\u001b[0m\u001b[1;33m(\u001b[0m\u001b[0ml\u001b[0m\u001b[1;33m,\u001b[0m\u001b[0mn\u001b[0m\u001b[1;33m,\u001b[0m\u001b[0ms\u001b[0m\u001b[1;33m)\u001b[0m\u001b[1;33m:\u001b[0m\u001b[1;33m\u001b[0m\u001b[1;33m\u001b[0m\u001b[0m\n\u001b[1;32m----> 2\u001b[1;33m     \u001b[1;32mwhile\u001b[0m \u001b[1;33m(\u001b[0m\u001b[0ms\u001b[0m \u001b[1;33m<\u001b[0m \u001b[1;36m1\u001b[0m\u001b[1;33m)\u001b[0m\u001b[1;33m:\u001b[0m\u001b[1;33m\u001b[0m\u001b[1;33m\u001b[0m\u001b[0m\n\u001b[0m\u001b[0;32m      3\u001b[0m         \u001b[1;32mif\u001b[0m \u001b[1;33m(\u001b[0m\u001b[1;33m(\u001b[0m\u001b[0mw\u001b[0m \u001b[1;33m<\u001b[0m \u001b[0ml\u001b[0m\u001b[1;33m)\u001b[0m \u001b[1;32mor\u001b[0m \u001b[1;33m(\u001b[0m\u001b[0mh\u001b[0m \u001b[1;33m<\u001b[0m \u001b[0ml\u001b[0m\u001b[1;33m)\u001b[0m\u001b[1;33m)\u001b[0m\u001b[1;33m:\u001b[0m\u001b[1;33m\u001b[0m\u001b[1;33m\u001b[0m\u001b[0m\n\u001b[0;32m      4\u001b[0m             \u001b[0mprint\u001b[0m\u001b[1;33m(\u001b[0m\u001b[1;34m\"UPLOAD ANOTHER\"\u001b[0m\u001b[1;33m)\u001b[0m\u001b[1;33m\u001b[0m\u001b[1;33m\u001b[0m\u001b[0m\n\u001b[0;32m      5\u001b[0m         \u001b[1;32melse\u001b[0m\u001b[1;33m:\u001b[0m\u001b[1;33m\u001b[0m\u001b[1;33m\u001b[0m\u001b[0m\n",
      "\u001b[1;31mTypeError\u001b[0m: '<' not supported between instances of 'list' and 'int'"
     ]
    }
   ],
   "source": [
    "def photoPrinting(l,n,s):\n",
    "    while (s < 1):\n",
    "        if ((w < l) or (h < l)):\n",
    "            print(\"UPLOAD ANOTHER\")\n",
    "        else:\n",
    "            return\n",
    "    while(w == h):\n",
    "        if w == h:\n",
    "            print(\"ACCEPTED\")\n",
    "        else:\n",
    "            return\n",
    "    if w > h:\n",
    "        print(\"CROP IT\")\n",
    "    \n",
    "l = int(input())\n",
    "n = int(input())\n",
    "for i in range (n):\n",
    "    s = input()\n",
    "    s = s.split()\n",
    "    w = int(s[0])\n",
    "    h = int(s[1])\n",
    "photoPrinting(l,n,s)"
   ]
  },
  {
   "cell_type": "code",
   "execution_count": 6,
   "metadata": {},
   "outputs": [
    {
     "name": "stdout",
     "output_type": "stream",
     "text": [
      "180\n",
      "3\n",
      "120 130\n",
      "UPLOAD ANOTHER\n",
      "180 180\n",
      "ACCEPTED\n",
      "230 240\n",
      "CROP IT\n"
     ]
    }
   ],
   "source": [
    "def photoPrinting(l,n,s):\n",
    "    \n",
    "    s = s.split()\n",
    "    w = int(s[0])\n",
    "    h = int(s[1])\n",
    "    if ((w < l) or (h < l)):\n",
    "        print(\"UPLOAD ANOTHER\")\n",
    "    elif w == h:\n",
    "        print(\"ACCEPTED\")        \n",
    "    elif (w > h) or (w<h):        \n",
    "        print(\"CROP IT\")\n",
    "    \n",
    "l = int(input())\n",
    "n = int(input())\n",
    "\n",
    "for i in range (0, n):\n",
    "    s = input()\n",
    "    photoPrinting(l,n,s)"
   ]
  },
  {
   "cell_type": "code",
   "execution_count": 12,
   "metadata": {},
   "outputs": [
    {
     "name": "stdout",
     "output_type": "stream",
     "text": [
      "13X131-13\n",
      "valid\n"
     ]
    }
   ],
   "source": [
    "def helpNature(s):\n",
    "    s = input()\n",
    "    a = list(s)\n",
    "    l = len(s)\n",
    "    if((int(a[0]+a[1])%2==0) and (int(a[3]+a[4])%2==0) and (int(a[4]+a[5])%2==0) and (int(a[7]+a[8])%2==0) and (a[6]=='-')):\n",
    "        if((a[2]== 'A') or (a[2]== 'E') or (a[2]== 'I') or (a[2]== 'O') or (a[2]== 'U') or (a[2]== 'Y')):\n",
    "            print(\"invalid\")\n",
    "    else:\n",
    "        print(\"valid\")\n",
    "helpNature(s) \n"
   ]
  },
  {
   "cell_type": "code",
   "execution_count": 29,
   "metadata": {},
   "outputs": [
    {
     "name": "stdout",
     "output_type": "stream",
     "text": [
      "False\n",
      "sindhu already exists\n"
     ]
    }
   ],
   "source": [
    "# Function to add contacts to contact text file \n",
    "from Packages.validators import phoneNumberValidator as pnv\n",
    "from Packages.validators import emailValidator as ev\n",
    "def addContact(name, phone, email):\n",
    "    # store data as name,phone, email in the contact list\n",
    "    filename = 'DataFiles/contacts.txt'\n",
    "    if not checkContactExists(name):\n",
    "        if pnv(phone) and ev(email):\n",
    "            with open(filename, 'a') as f:\n",
    "                line = name+\",\"+str(phone)+\",\"+email+'\\n'\n",
    "                f.write(line)\n",
    "            print(name, \"added to contacts\")\n",
    "        else:\n",
    "            print(\"invalid phone number or email id\")\n",
    "            return\n",
    "    else:\n",
    "        print(name,\"already exists\")\n",
    "    return\n",
    "\n",
    "import re\n",
    "     # Function to check if contact already exists\n",
    "def checkContactExists(name):\n",
    "    filename = 'DataFiles/contacts.txt'\n",
    "    with open(filename, 'r') as f:\n",
    "        filedata = f.read()\n",
    "        pattern = name+','\n",
    "        return re.search(name, filedata)\n",
    "if checkContactExists(\"sandhaya\"):\n",
    "    print(True)\n",
    "else:\n",
    "    print(False)\n",
    "\n",
    "addContact('sindhu', 9965444556, 'jyothy.amara2819@gmail.com')\n",
    "    "
   ]
  },
  {
   "cell_type": "code",
   "execution_count": 33,
   "metadata": {},
   "outputs": [
    {
     "data": {
      "text/plain": [
       "\" \\n{'sindhu': [9965444556 \\n 'jyothy.amara2819@gmail.com'] \\n 'rupa': [5678977867 \\n 'jyothy.amara2819@gmail.com'] \\n 'sandhya': [4547678456 \\n 'jyothy.amara2819@gmail.com']}rupa \\n988776565 \\nname1@gmail.com\\nrupa \\n{'sindhu': [9965444556 \\n 'jyothy.amara2819@gmail.com'] \\n 'rupa': [5678977867 \\n 'jyothy.amara2819@gmail.com'] \\n 'sandhya': [4547678456 \\n 'jyothy.amara2819@gmail.com']}rupa \\n988776565 \\nname1@gmail.com\\n988776565 \\n{'sindhu': [9965444556 \\n 'jyothy.amara2819@gmail.com'] \\n 'rupa': [5678977867 \\n 'jyothy.amara2819@gmail.com'] \\n 'sandhya': [4547678456 \\n 'jyothy.amara2819@gmail.com']}rupa \\n988776565 \\nname1@gmail.com\\nname1@gmail.com\\n\""
      ]
     },
     "execution_count": 33,
     "metadata": {},
     "output_type": "execute_result"
    }
   ],
   "source": [
    "filename = 'DataFiles/contacts.txt'\n",
    "def csvToList(filename):\n",
    "    li=[]\n",
    "    with open (filename, 'r') as f:\n",
    "        for line in f:\n",
    "            li.append(line.split(','))\n",
    "    return li\n",
    "\n",
    "def listToFile(li):\n",
    "    s=\" \"\n",
    "    for i in li:\n",
    "        s +=s.join(i)\n",
    "    return s\n",
    "            \n",
    "li = csvToList(filename)\n",
    "listToFile(li)"
   ]
  },
  {
   "cell_type": "code",
   "execution_count": null,
   "metadata": {},
   "outputs": [],
   "source": []
  },
  {
   "cell_type": "markdown",
   "metadata": {},
   "source": [
    "# Practise Session\n"
   ]
  },
  {
   "cell_type": "code",
   "execution_count": null,
   "metadata": {},
   "outputs": [],
   "source": [
    "contacts = {\"name1\":[9876543210, 'name1@domain.ext'], \"name2\":[7654321098, \"name2@domain.ext\"]}\n",
    "\n",
    "def addContact(name, phone, email):\n",
    "    #verify that the contact doesnot already exist\n",
    "    if name in contacts:\n",
    "        print(name, \"already exists.\")\n",
    "        return\n",
    "    else:\n",
    "        if not phoneNumberValidator(phone):\n",
    "            print(\"Invalid Phone number\")\n",
    "            return\n",
    "        if not emailValidator(email):\n",
    "            print(\"Invalid Email address\")\n",
    "            return\n",
    "        newcontact = []\n",
    "        newcontact.append(phone)\n",
    "        newcontact.append(email)\n",
    "        contacts[name] = newcontact\n",
    "        print(name, \"added successfully\")\n",
    "    return\n",
    "\n",
    "addContact(\"name3\", 9876543211, \"name321@gmail.com\") "
   ]
  },
  {
   "cell_type": "code",
   "execution_count": null,
   "metadata": {},
   "outputs": [],
   "source": []
  },
  {
   "cell_type": "code",
   "execution_count": null,
   "metadata": {},
   "outputs": [],
   "source": []
  },
  {
   "cell_type": "code",
   "execution_count": null,
   "metadata": {},
   "outputs": [],
   "source": []
  },
  {
   "cell_type": "code",
   "execution_count": null,
   "metadata": {},
   "outputs": [],
   "source": []
  }
 ],
 "metadata": {
  "kernelspec": {
   "display_name": "Python 3",
   "language": "python",
   "name": "python3"
  },
  "language_info": {
   "codemirror_mode": {
    "name": "ipython",
    "version": 3
   },
   "file_extension": ".py",
   "mimetype": "text/x-python",
   "name": "python",
   "nbconvert_exporter": "python",
   "pygments_lexer": "ipython3",
   "version": "3.7.3"
  }
 },
 "nbformat": 4,
 "nbformat_minor": 2
}
