{
 "cells": [
  {
   "cell_type": "code",
   "execution_count": 1,
   "metadata": {},
   "outputs": [
    {
     "name": "stdout",
     "output_type": "stream",
     "text": [
      "sdaff45646\n",
      "5\n",
      "5\n"
     ]
    }
   ],
   "source": [
    "def alphabets(string):\n",
    "    alphabets = 0\n",
    "    digits = 0\n",
    "    special = 0\n",
    "    for i in range(len(string)):\n",
    "        if (string[i].isalpha()):\n",
    "            alphabets = alphabets + 1\n",
    "           \n",
    "        elif (string[i].isdigit()):\n",
    "            digits = digits + 1\n",
    "            \n",
    "        else:\n",
    "            special = special + 1\n",
    "    print(alphabets)\n",
    "    print(digits)\n",
    "string = input()\n",
    "alphabets(string)\n",
    "            "
   ]
  },
  {
   "cell_type": "code",
   "execution_count": 3,
   "metadata": {},
   "outputs": [
    {
     "name": "stdout",
     "output_type": "stream",
     "text": [
      "2\n",
      "3\n",
      "6\n",
      "NO\n",
      "7\n",
      "NO\n",
      "7\n",
      "NO\n"
     ]
    }
   ],
   "source": [
    "#Special number  problem:\n",
    "# function to determine if a number is special number is not\n",
    "def isSpecialNumber(n, p):\n",
    "    if numberPrimeFactors(n) >= p:\n",
    "        return True\n",
    "    return False\n",
    "# function to check if number is prime\n",
    "def isCheck(n):\n",
    "    flag = 1\n",
    "    if n == 2:\n",
    "        return True\n",
    "    for i in range(2, n//2 + 1):\n",
    "        if n % i == 0:\n",
    "            flag = 0\n",
    "            return False\n",
    "    if flag == 1:\n",
    "        return True\n",
    "\n",
    "# function to determine number of prime factors for a given number\n",
    "def numberPrimeFactors(n):\n",
    "    if isCheck(n):\n",
    "        return 1\n",
    "    count = 0\n",
    "    for i in range(2, n//2 + 1):\n",
    "        if isCheck(i) and n % i == 0:\n",
    "            count = count + 1\n",
    "    return count\n",
    "def solution2():\n",
    "    p = int(input())\n",
    "    t = int(input())\n",
    "    for i in range(0, t):\n",
    "        n = int(input())\n",
    "        if isSpecialNumber(n, t):\n",
    "            print(\"YES\")\n",
    "        else:\n",
    "            print(\"NO\")\n",
    "solution2()\n",
    "        \n"
   ]
  },
  {
   "cell_type": "markdown",
   "metadata": {},
   "source": [
    "### problem: Highest Remainder\n",
    "Write a program to find a natural number that is smaller than n and gives the highest remainder when divided by that number.\n",
    "if there is more than one such number,print the smaller number\n",
    "\n",
    "\n",
    "\n",
    "n\n",
    "highest = 0\n",
    "x < n and n% x == highest\n",
    "\n",
    "10"
   ]
  },
  {
   "cell_type": "code",
   "execution_count": 4,
   "metadata": {},
   "outputs": [
    {
     "name": "stdout",
     "output_type": "stream",
     "text": [
      "3\n"
     ]
    }
   ],
   "source": [
    "def highetRemainder(n):\n",
    "    hr = 0\n",
    "    v  = n\n",
    "    for i in range(n-1, n//2, -1):\n",
    "        r = n % i\n",
    "        if r > hr:\n",
    "            hr = r\n",
    "            v = i\n",
    "    print(v)\n",
    "    return\n",
    "highetRemainder(5)\n",
    "        "
   ]
  },
  {
   "cell_type": "code",
   "execution_count": 5,
   "metadata": {},
   "outputs": [
    {
     "name": "stdout",
     "output_type": "stream",
     "text": [
      "enter a expression5+5+(9*2)\n",
      "28\n"
     ]
    }
   ],
   "source": [
    "result = eval(input(\"enter a expression\"))\n",
    "print(result)"
   ]
  },
  {
   "cell_type": "code",
   "execution_count": 6,
   "metadata": {},
   "outputs": [
    {
     "name": "stdout",
     "output_type": "stream",
     "text": [
      "2\n",
      "3\n",
      "b\n"
     ]
    }
   ],
   "source": [
    "a = int(input())\n",
    "b = int(input())\n",
    "print(\"a\") if a > b else print(\"b\")"
   ]
  },
  {
   "cell_type": "code",
   "execution_count": null,
   "metadata": {},
   "outputs": [],
   "source": []
  },
  {
   "cell_type": "code",
   "execution_count": null,
   "metadata": {},
   "outputs": [],
   "source": []
  },
  {
   "cell_type": "code",
   "execution_count": null,
   "metadata": {},
   "outputs": [],
   "source": []
  },
  {
   "cell_type": "code",
   "execution_count": null,
   "metadata": {},
   "outputs": [],
   "source": []
  },
  {
   "cell_type": "code",
   "execution_count": null,
   "metadata": {},
   "outputs": [],
   "source": []
  },
  {
   "cell_type": "code",
   "execution_count": null,
   "metadata": {},
   "outputs": [],
   "source": []
  }
 ],
 "metadata": {
  "kernelspec": {
   "display_name": "Python 3",
   "language": "python",
   "name": "python3"
  },
  "language_info": {
   "codemirror_mode": {
    "name": "ipython",
    "version": 3
   },
   "file_extension": ".py",
   "mimetype": "text/x-python",
   "name": "python",
   "nbconvert_exporter": "python",
   "pygments_lexer": "ipython3",
   "version": "3.7.3"
  }
 },
 "nbformat": 4,
 "nbformat_minor": 2
}
