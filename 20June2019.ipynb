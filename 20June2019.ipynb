{
 "cells": [
  {
   "cell_type": "markdown",
   "metadata": {},
   "source": [
    "### Date: 20 June2019\n",
    "### Day objective:\n",
    "- Regular Expressions:\n",
    "     - Constructing Regular Expressions for various use cases\n",
    "     - Regular Expressions Module and related in python\n",
    "     - Improving the contacts application with name and phone number validations using Regular expressions\n",
    "- File Handling\n",
    "     - Text Files\n",
    "     - Upgrading the contacts application to store contact information in a text file"
   ]
  },
  {
   "cell_type": "code",
   "execution_count": null,
   "metadata": {},
   "outputs": [],
   "source": []
  },
  {
   "cell_type": "markdown",
   "metadata": {},
   "source": [
    "### Regular Expressions:\n",
    "\n",
    "- Pattern Matching\n",
    "- Symbolic Notation of a pattern\n",
    "   - pattern : Format which repeats\n",
    "   - Pattern(RegularExpression) - The set of all values strings matches that pattern\n",
    "- eg:\n",
    "- [0-9] -> Any digit \n",
    "- [a-z] -> Any lower case alphabet\n",
    "- [2468] -> All single digit multiples of 2\n",
    "- ^[0-9]{1}$ -> Only single digit number <br>\n",
    "\n",
    "- ^[0-9]{2}$ -> It will highlight only two digit number\n",
    "\n",
    "- [0-9]*0$  -> All multiples of 10\n",
    "\n",
    "- ^([1-9][0-9]*[05])$|^([5])$  ->All multiples of 5\n",
    "\n",
    "- ^[1-9][0-9]{9}$ -> All 10 digit numbers\n",
    "\n",
    "- [w][o][r][d]  or (word) -> Search for a specific word\n",
    "\n",
    "- 6[6-9][0-9]{9}$|^[0][6-9][0-9]{9}$ -> VAlidating phone number(India)(start with 9876 followed by 9 digit)\n",
    "\n",
    "- 6[6-9][0-9]{9}$|^[0][6-9][0-9]{9}|^[+][9][1][6-9][0-9]$ -> starting with +91\n",
    "\n",
    "- ^[0-9a-z][0-9a-z_.]{4,13}[0-9a-z][@][a-z0-9]{3,18}[.][a-z]{2,4}$ -> Email Validation(username@domain.extension)\n",
    "\n",
    "- ^[0-9a-z][0-9a-z_.]{5,14} - username\n",
    "       - Length of username : [6,15]\n",
    "       - No special charcters other than _ .\n",
    "       - It shuld not begin and end with _ .\n",
    "       - Charcter Set:All digits and lower case alphabets\n",
    "                                   \n",
    "- ^[0-9a-z][0-9a-z_.]{4,13}[0-9a-z]  - domain\n",
    "      - Length of domain : [3, 15]\n",
    "      - No Special chacters \n",
    "      - Charcter Set : all digits and lower case alphabets\n",
    "          \n",
    "- extension\n",
    "     - Length of extension : [2, 4]\n",
    "     - no special charcters\n",
    "     - charcter Set:lowewr casse Alphabets\n",
    "     \n",
    "-  ^[a]...[z]$ -> Any String of length 5 that starts with a and ends with z\n",
    "\n",
    "-  ^[a].*[z]$ -> Any String of length  that starts with a and ends with z\n",
    "              "
   ]
  },
  {
   "cell_type": "code",
   "execution_count": null,
   "metadata": {},
   "outputs": [],
   "source": []
  },
  {
   "cell_type": "code",
   "execution_count": 24,
   "metadata": {},
   "outputs": [
    {
     "data": {
      "text/plain": [
       "False"
      ]
     },
     "execution_count": 24,
     "metadata": {},
     "output_type": "execute_result"
    }
   ],
   "source": [
    "# Function to validate a phone number\n",
    "import re\n",
    "def phoneNumberValidator(number):\n",
    "    pattern = '^6[6-9][0-9]{9}$|^[0][6-9][0-9]{9}|^[+][9][1][6-9][0-9]$'\n",
    "    if re.match(pattern,str(number)):\n",
    "        return True\n",
    "    return False\n",
    "       \n",
    "phoneNumberValidator(98765432)\n",
    "\n",
    "def emailValidator(email):\n",
    "    pattern = '^[0-9a-z][0-9a-z_.]{4,13}[0-9a-z][@][a-z0-9]{3,18}[.][a-z]{2,4}$'\n",
    "    if re.match(pattern,email):\n",
    "        return True\n",
    "    return False\n",
    "emailValidator(\"-12345@gmail.com\")\n",
    "    "
   ]
  },
  {
   "cell_type": "code",
   "execution_count": 38,
   "metadata": {},
   "outputs": [
    {
     "name": "stdout",
     "output_type": "stream",
     "text": [
      "jyothi already exists\n"
     ]
    }
   ],
   "source": [
    "contacts = {\"sindhu\":[9965444556,\"jyothy.amara2819@gmail.com\"], \"rupa\":[5678977867,\"jyothy.amara2819@gmail.com\"], \"sandhya\":[4547678456,\"jyothy.amara2819@gmail.com\"]}\n",
    "\n",
    "def addContact(name, phone,email):\n",
    "    if name not in contacts:\n",
    "        print(name, \"already exists\")\n",
    "    else:\n",
    "        if not phoneNumberValidator(phone):\n",
    "            print(\"Invalid phone number\")\n",
    "            return\n",
    "        if not emailValidator(email):\n",
    "            print(\"Invalid email number\")\n",
    "            return\n",
    "        newcontact = []\n",
    "        newcontact.append(phone)\n",
    "        newcontact.append(email)\n",
    "        contacts[name] = newcontact\n",
    "        print(name, \"added sucessfully\")\n",
    "        \n",
    "    return\n",
    "addContact(\"jyothi\", 9963699931, \"jyothi28@gmil.com\")"
   ]
  },
  {
   "cell_type": "code",
   "execution_count": 53,
   "metadata": {},
   "outputs": [
    {
     "name": "stdout",
     "output_type": "stream",
     "text": [
      "sindhu\n"
     ]
    },
    {
     "ename": "KeyError",
     "evalue": "'s'",
     "output_type": "error",
     "traceback": [
      "\u001b[1;31m---------------------------------------------------------------------------\u001b[0m",
      "\u001b[1;31mKeyError\u001b[0m                                  Traceback (most recent call last)",
      "\u001b[1;32m<ipython-input-53-b091be1f161f>\u001b[0m in \u001b[0;36m<module>\u001b[1;34m\u001b[0m\n\u001b[0;32m      7\u001b[0m         \u001b[0mprint\u001b[0m\u001b[1;33m(\u001b[0m\u001b[1;34m\"%s does not exist\"\u001b[0m \u001b[1;33m%\u001b[0m \u001b[0mname\u001b[0m\u001b[1;33m)\u001b[0m\u001b[1;33m\u001b[0m\u001b[1;33m\u001b[0m\u001b[0m\n\u001b[0;32m      8\u001b[0m         \u001b[1;32mreturn\u001b[0m\u001b[1;33m\u001b[0m\u001b[1;33m\u001b[0m\u001b[0m\n\u001b[1;32m----> 9\u001b[1;33m \u001b[0msearchContacts\u001b[0m\u001b[1;33m(\u001b[0m\u001b[1;34m\"sindhu\"\u001b[0m\u001b[1;33m)\u001b[0m\u001b[1;33m\u001b[0m\u001b[1;33m\u001b[0m\u001b[0m\n\u001b[0m",
      "\u001b[1;32m<ipython-input-53-b091be1f161f>\u001b[0m in \u001b[0;36msearchContacts\u001b[1;34m(name)\u001b[0m\n\u001b[0;32m      2\u001b[0m     \u001b[1;32mif\u001b[0m \u001b[0mname\u001b[0m \u001b[1;32min\u001b[0m \u001b[0mcontacts\u001b[0m\u001b[1;33m:\u001b[0m\u001b[1;33m\u001b[0m\u001b[1;33m\u001b[0m\u001b[0m\n\u001b[0;32m      3\u001b[0m         \u001b[0mprint\u001b[0m\u001b[1;33m(\u001b[0m\u001b[0mname\u001b[0m\u001b[1;33m)\u001b[0m\u001b[1;33m\u001b[0m\u001b[1;33m\u001b[0m\u001b[0m\n\u001b[1;32m----> 4\u001b[1;33m         \u001b[0mprint\u001b[0m\u001b[1;33m(\u001b[0m\u001b[1;34m\"phone:\"\u001b[0m\u001b[1;33m,\u001b[0m \u001b[0mcontacts\u001b[0m\u001b[1;33m[\u001b[0m\u001b[0mname\u001b[0m\u001b[1;33m[\u001b[0m\u001b[1;36m0\u001b[0m\u001b[1;33m]\u001b[0m\u001b[1;33m]\u001b[0m\u001b[1;33m)\u001b[0m\u001b[1;33m\u001b[0m\u001b[1;33m\u001b[0m\u001b[0m\n\u001b[0m\u001b[0;32m      5\u001b[0m         \u001b[0mprint\u001b[0m\u001b[1;33m(\u001b[0m\u001b[1;34m\"email:\"\u001b[0m\u001b[1;33m,\u001b[0m \u001b[0mcontacts\u001b[0m\u001b[1;33m[\u001b[0m\u001b[0mname\u001b[0m\u001b[1;33m[\u001b[0m\u001b[1;36m1\u001b[0m\u001b[1;33m]\u001b[0m\u001b[1;33m]\u001b[0m\u001b[1;33m)\u001b[0m\u001b[1;33m\u001b[0m\u001b[1;33m\u001b[0m\u001b[0m\n\u001b[0;32m      6\u001b[0m     \u001b[1;32melse\u001b[0m\u001b[1;33m:\u001b[0m\u001b[1;33m\u001b[0m\u001b[1;33m\u001b[0m\u001b[0m\n",
      "\u001b[1;31mKeyError\u001b[0m: 's'"
     ]
    }
   ],
   "source": [
    "def searchContacts(name):\n",
    "    if name in contacts:\n",
    "        print(name)\n",
    "        print(\"phone:\", contacts[name[0]])\n",
    "        print(\"email:\", contacts[name[1]])\n",
    "    else:\n",
    "        print(\"%s does not exist\" % name)\n",
    "        return\n",
    "searchContacts(\"sindhu\")"
   ]
  },
  {
   "cell_type": "code",
   "execution_count": 56,
   "metadata": {},
   "outputs": [
    {
     "name": "stdout",
     "output_type": "stream",
     "text": [
      "sindhu \n",
      " phone : 9965444556 \n",
      " email id: jyothy.amara2819@gmail.com\n",
      "rupa \n",
      " phone : 5678977867 \n",
      " email id: jyothy.amara2819@gmail.com\n",
      "sandhya \n",
      " phone : 4547678456 \n",
      " email id: jyothy.amara2819@gmail.com\n"
     ]
    }
   ],
   "source": [
    "def listContacts():\n",
    "    for contact, info in contacts.items():\n",
    "        print(contact, \"\\n\", \"phone :\", info[0], \"\\n\", \"email id:\" ,info[1])\n",
    "    return\n",
    "listContacts()\n"
   ]
  },
  {
   "cell_type": "code",
   "execution_count": 7,
   "metadata": {},
   "outputs": [
    {
     "name": "stdout",
     "output_type": "stream",
     "text": [
      "contact badulla added\n"
     ]
    }
   ],
   "source": [
    "addContact(\"badulla\",\"98564561470\")"
   ]
  },
  {
   "cell_type": "code",
   "execution_count": 49,
   "metadata": {},
   "outputs": [
    {
     "name": "stdout",
     "output_type": "stream",
     "text": [
      "3 contacts added sucessfully\n"
     ]
    },
    {
     "data": {
      "text/plain": [
       "{'sindhu': [9965444556, 'jyothy.amara2819@gmail.com'],\n",
       " 'rupa': [5678977867, 'jyothy.amara2819@gmail.com'],\n",
       " 'sandhya': [4547678456, 'jyothy.amara2819@gmail.com']}"
      ]
     },
     "execution_count": 49,
     "metadata": {},
     "output_type": "execute_result"
    }
   ],
   "source": [
    "# new Contacts is given as a dictionary\n",
    "# merge new contacts with existing contacts\n",
    "def importContacts(newContacts):\n",
    "    contacts.update(newContacts)\n",
    "    print(len(newContacts.keys()), \"contacts added sucessfully\")\n",
    "    return\n",
    "newContacts = {\"sindhu\":[9965444556,\"jyothy.amara2819@gmail.com\"], \"rupa\":[5678977867,\"jyothy.amara2819@gmail.com\"], \"sandhya\":[4547678456,\"jyothy.amara2819@gmail.com\"]}\n",
    "importContacts(newContacts)\n",
    "contacts"
   ]
  },
  {
   "cell_type": "code",
   "execution_count": null,
   "metadata": {},
   "outputs": [],
   "source": [
    "# Function to edit contact information\n",
    "def editContact(name, phone, email):\n",
    "    "
   ]
  },
  {
   "cell_type": "code",
   "execution_count": 19,
   "metadata": {},
   "outputs": [
    {
     "data": {
      "text/plain": [
       "{'sindhu': [9965444556, 'jyothy.amara2819@gmail.com'],\n",
       " 'rupa': [5678977867, 'jyothy.amara2819@gmail.com'],\n",
       " 'sandhya': [4547678456, 'jyothy.amara2819@gmail.com']}"
      ]
     },
     "execution_count": 19,
     "metadata": {},
     "output_type": "execute_result"
    }
   ],
   "source": [
    "contacts"
   ]
  },
  {
   "cell_type": "code",
   "execution_count": null,
   "metadata": {},
   "outputs": [],
   "source": []
  },
  {
   "cell_type": "markdown",
   "metadata": {},
   "source": [
    "## File Handling in python:\n",
    "\n",
    "File - Document containing information residing on the permanent storage\n",
    "Types - Text,PDF, CSV etc\n",
    "\n",
    "File I/O-Channeling I/O data to files\n",
    "Default I/O channels - keyboard / screen\n",
    "\n",
    "change I/O channel to files for reading and writing\n",
    "\n",
    "Read a  file - Input\n",
    "Write to a file -output to a file\n",
    "\n",
    "To Read/ write a file -open(filename, mode)\n"
   ]
  },
  {
   "cell_type": "code",
   "execution_count": 59,
   "metadata": {},
   "outputs": [
    {
     "name": "stdout",
     "output_type": "stream",
     "text": [
      "Line 1\n",
      "Line 2\n",
      "Line 3\n"
     ]
    }
   ],
   "source": [
    "# Function to crreate a readd a file:\n",
    "def readFile(filename):\n",
    "    f = open(filename, 'r')\n",
    "    filedata = f.read()\n",
    "    f.close()\n",
    "    return filedata\n",
    "filename = 'DataFiles/data.txt'\n",
    "for line in readFile(filename).split(\"\\n\"):\n",
    "    print(line)"
   ]
  },
  {
   "cell_type": "code",
   "execution_count": 63,
   "metadata": {},
   "outputs": [
    {
     "name": "stdout",
     "output_type": "stream",
     "text": [
      "Line 1\n",
      "Line 2\n",
      "Line 3\n",
      "Line 1\n",
      "Line 2\n",
      "Line 3"
     ]
    }
   ],
   "source": [
    "# Function to crreate a readd a file:\n",
    "def readFile(filename):\n",
    "    f = open(filename, 'r')\n",
    "    filedata = f.read()\n",
    "    f.close()\n",
    "    return filedata\n",
    "filename = 'DataFiles/data.txt'\n",
    "for line in readFile(filename).split(\"\\n\"):\n",
    "    print(line)\n",
    "    \n",
    "    \n",
    "    \n",
    "def printFileDataLines(filename):\n",
    "    f = open(filename, 'r')\n",
    "    for line in f:\n",
    "        print(line, end=\"\")\n",
    "    return\n",
    "printFileDataLines(filename)\n",
    "    "
   ]
  },
  {
   "cell_type": "code",
   "execution_count": 67,
   "metadata": {},
   "outputs": [],
   "source": [
    "## Function to write data in to afile\n",
    "def WriteIntoFile(filename, filedata):\n",
    "    with open(filename,'w') as f:\n",
    "        f.write(filedata)\n",
    "    return\n",
    "filename = \"DataFiles/data.txt\"\n",
    "WriteIntoFile(filename, \"new Data\\n\")"
   ]
  },
  {
   "cell_type": "code",
   "execution_count": 68,
   "metadata": {},
   "outputs": [],
   "source": [
    "## Function to append data to a file:\n",
    "def appendDataTOFile(filename, filedata):\n",
    "    with open(filename,'a') as f:\n",
    "        f.write(filedata)\n",
    "    return\n",
    "filedata = \"Line2\\nLine3\"\n",
    "appendDataTOFile(filename, filedata)\n"
   ]
  },
  {
   "cell_type": "code",
   "execution_count": 27,
   "metadata": {},
   "outputs": [],
   "source": [
    "## Function to append data to a file:\n",
    "def appendDataTOFile(filename, filedata):\n",
    "    with open(filename,'w') as f:\n",
    "        for line in filedata:\n",
    "            f.write('\\n'+line)\n",
    "    return\n",
    "filedata = [\"Line4\",\"Line5\"]\n",
    "appendDataTOFile(filename, filedata)\n"
   ]
  },
  {
   "cell_type": "code",
   "execution_count": null,
   "metadata": {},
   "outputs": [],
   "source": []
  },
  {
   "cell_type": "code",
   "execution_count": 33,
   "metadata": {},
   "outputs": [],
   "source": [
    "def listContacts():\n",
    "    for contact, info in contacts.items():\n",
    "        print(contact)\n",
    "        print( \"phone :\", info[0] )\n",
    "        print( \"email id:\" ,info[1])\n",
    "    return\n",
    "def WriteIntoFile(filename, filedata):\n",
    "    with open(filename,'w') as f:\n",
    "        f.write('\\n'+filedata)\n",
    "s=str(contacts)\n",
    "filename = \"DataFiles/contacts.txt\"\n",
    "WriteIntoFile(filename, s)"
   ]
  },
  {
   "cell_type": "code",
   "execution_count": 18,
   "metadata": {},
   "outputs": [
    {
     "name": "stdout",
     "output_type": "stream",
     "text": [
      "sindhu \n",
      " phone : 9965444556 \n",
      " email id: jyothy.amara2819@gmail.com\n",
      "rupa \n",
      " phone : 5678977867 \n",
      " email id: jyothy.amara2819@gmail.com\n",
      "sandhya \n",
      " phone : 4547678456 \n",
      " email id: jyothy.amara2819@gmail.com\n"
     ]
    }
   ],
   "source": [
    "def listContacts():\n",
    "    for contact, info in contacts.items():\n",
    "        print(contact, \"\\n\", \"phone :\", info[0], \"\\n\", \"email id:\" ,info[1])\n",
    "    return\n",
    "listContacts()\n"
   ]
  },
  {
   "cell_type": "code",
   "execution_count": null,
   "metadata": {},
   "outputs": [],
   "source": []
  }
 ],
 "metadata": {
  "kernelspec": {
   "display_name": "Python 3",
   "language": "python",
   "name": "python3"
  },
  "language_info": {
   "codemirror_mode": {
    "name": "ipython",
    "version": 3
   },
   "file_extension": ".py",
   "mimetype": "text/x-python",
   "name": "python",
   "nbconvert_exporter": "python",
   "pygments_lexer": "ipython3",
   "version": "3.7.3"
  }
 },
 "nbformat": 4,
 "nbformat_minor": 2
}
