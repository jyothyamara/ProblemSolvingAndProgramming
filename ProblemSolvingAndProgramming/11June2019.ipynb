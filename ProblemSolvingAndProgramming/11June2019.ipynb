{
 "cells": [
  {
   "cell_type": "markdown",
   "metadata": {},
   "source": [
    "###  MarkDown  Basics\n",
    "\n",
    "* **bold** <br>\n",
    "* *Italic* <br>\n",
    "* ***IB***\n",
    "* Normal text\n",
    "  * Sublist1\n",
    "  * Sublist2\n",
    "  \n",
    "  \n",
    " 1. Ordered list element1\n",
    " 2. Ordered list element2\n",
    " \n",
    "- []option 1\n",
    "- []option 2\n",
    "- [x]option 3\n",
    "\n",
    "I gey 10 more traffic from  .[Google][1] than from .[yahoo].[2] or.[MSN][3]\n",
    "\n",
    "\n",
    ".[1].https:/www.google.com/\n",
    ".[2].https://search.yahoo.com/\n",
    "\n",
    "`printf(\"hello Markdown\")`\n",
    "\n",
    "\n",
    " \n",
    " \n",
    " \n",
    " \n",
    "[Jupyter Logo](jupyter.jpg)\n",
    " \n",
    " <img src=\"jupyter.jpg\" center=\"true\" style=\"float:left\">"
   ]
  },
  {
   "cell_type": "markdown",
   "metadata": {},
   "source": [
    "### pytonBasics"
   ]
  },
  {
   "cell_type": "markdown",
   "metadata": {},
   "source": [
    "### Phyton version 3.7\n",
    "\n",
    "- Scripting\n",
    "- object oriented\n",
    "- functional\n",
    "\n"
   ]
  },
  {
   "cell_type": "code",
   "execution_count": 1,
   "metadata": {},
   "outputs": [
    {
     "name": "stdout",
     "output_type": "stream",
     "text": [
      "Good Afternoon!||Hello python\n"
     ]
    }
   ],
   "source": [
    "# python Coments\n",
    "\n",
    "print(\"Good Afternoon!\", end=\"||\")  # basic output\n",
    "print(\"Hello python\")"
   ]
  },
  {
   "cell_type": "code",
   "execution_count": null,
   "metadata": {},
   "outputs": [],
   "source": []
  },
  {
   "cell_type": "markdown",
   "metadata": {},
   "source": [
    "### Assignment"
   ]
  },
  {
   "cell_type": "code",
   "execution_count": 2,
   "metadata": {},
   "outputs": [
    {
     "name": "stdout",
     "output_type": "stream",
     "text": [
      "123 234 345\n"
     ]
    }
   ],
   "source": [
    "n1 = 123456 # Single varaiable Assignment\n",
    "\n",
    "n2 = n3 = n4 = n1 # Multi variable Assignment of the same value\n",
    "\n",
    "a, b, c = 123, 234, 345 # multi variable Assignment with different values\n",
    "\n",
    "print (a, b, c)"
   ]
  },
  {
   "cell_type": "code",
   "execution_count": null,
   "metadata": {},
   "outputs": [],
   "source": []
  },
  {
   "cell_type": "markdown",
   "metadata": {},
   "source": [
    "### Data types\n",
    "- int\n",
    "- float\n",
    "- string\n",
    "- double\n"
   ]
  },
  {
   "cell_type": "code",
   "execution_count": 4,
   "metadata": {},
   "outputs": [
    {
     "data": {
      "text/plain": [
       "12.0"
      ]
     },
     "execution_count": 4,
     "metadata": {},
     "output_type": "execute_result"
    }
   ],
   "source": [
    "type(a)\n",
    "s1 = \"phyton\"\n",
    "type(s1)\n",
    "\n",
    "f1 = 12.345\n",
    "type(f1)\n",
    "\n",
    "float(str(int(f1)))\n"
   ]
  },
  {
   "cell_type": "code",
   "execution_count": null,
   "metadata": {},
   "outputs": [],
   "source": []
  },
  {
   "cell_type": "markdown",
   "metadata": {},
   "source": [
    "### Arithmetic Operations\n",
    "- +\n",
    "- -\n",
    "- *\n",
    "- /\n",
    "- %\n",
    "- **"
   ]
  },
  {
   "cell_type": "code",
   "execution_count": null,
   "metadata": {},
   "outputs": [],
   "source": [
    "n1"
   ]
  },
  {
   "cell_type": "code",
   "execution_count": 2,
   "metadata": {},
   "outputs": [
    {
     "ename": "NameError",
     "evalue": "name 'n1' is not defined",
     "output_type": "error",
     "traceback": [
      "\u001b[1;31m---------------------------------------------------------------------------\u001b[0m",
      "\u001b[1;31mNameError\u001b[0m                                 Traceback (most recent call last)",
      "\u001b[1;32m<ipython-input-2-2e0c989591bc>\u001b[0m in \u001b[0;36m<module>\u001b[1;34m\u001b[0m\n\u001b[1;32m----> 1\u001b[1;33m \u001b[0mn1\u001b[0m \u001b[1;33m%\u001b[0m \u001b[1;36m11\u001b[0m\u001b[1;33m\u001b[0m\u001b[1;33m\u001b[0m\u001b[0m\n\u001b[0m\u001b[0;32m      2\u001b[0m \u001b[1;33m\u001b[0m\u001b[0m\n\u001b[0;32m      3\u001b[0m \u001b[0mn3\u001b[0m \u001b[1;33m=\u001b[0m \u001b[0mn2\u001b[0m \u001b[1;33m**\u001b[0m \u001b[1;36m123456\u001b[0m\u001b[1;33m\u001b[0m\u001b[1;33m\u001b[0m\u001b[0m\n\u001b[0;32m      4\u001b[0m \u001b[1;33m\u001b[0m\u001b[0m\n\u001b[0;32m      5\u001b[0m \u001b[0mtype\u001b[0m\u001b[1;33m(\u001b[0m\u001b[0mn3\u001b[0m\u001b[1;33m)\u001b[0m\u001b[1;33m\u001b[0m\u001b[1;33m\u001b[0m\u001b[0m\n",
      "\u001b[1;31mNameError\u001b[0m: name 'n1' is not defined"
     ]
    }
   ],
   "source": [
    "n1 % 11\n",
    "\n",
    "n3 = n2 ** 123456\n",
    "\n",
    "type(n3)\n",
    "len(str(n3))\n",
    "n3\n",
    "\n",
    "atoms = 10 ** 82\n",
    "len(str(atoms))\n",
    "type(str(atoms))\n",
    "\n",
    "\n",
    "\n"
   ]
  },
  {
   "cell_type": "code",
   "execution_count": null,
   "metadata": {},
   "outputs": [],
   "source": []
  },
  {
   "cell_type": "markdown",
   "metadata": {},
   "source": [
    "### Conditionals\n",
    "\n"
   ]
  },
  {
   "cell_type": "code",
   "execution_count": null,
   "metadata": {},
   "outputs": [],
   "source": [
    " if atoms < 10 ** 9:\n",
    "        print(\"TRUE\")\n",
    "else:\n",
    "    print(\"FALSE\")\n",
    "  "
   ]
  },
  {
   "cell_type": "code",
   "execution_count": null,
   "metadata": {},
   "outputs": [],
   "source": []
  },
  {
   "cell_type": "code",
   "execution_count": null,
   "metadata": {},
   "outputs": [],
   "source": [
    "# check if a number is even\n",
    "\n",
    "n = 123\n",
    "if n % 2 == 0:\n",
    "    print(\"even\")\n",
    "else:\n",
    "    print(\"odd\")\n",
    "\n",
    "\n",
    "\n",
    "\n",
    "\n"
   ]
  },
  {
   "cell_type": "code",
   "execution_count": 8,
   "metadata": {},
   "outputs": [
    {
     "name": "stdout",
     "output_type": "stream",
     "text": [
      "enter number 1-1\n",
      "enter number 2-100\n",
      "enter number 311\n",
      "11  is the greatest\n"
     ]
    }
   ],
   "source": [
    "# find the greatest of threee numbers\n",
    "\n",
    "n1 = input(\"enter number 1\")\n",
    "n2 = input(\"enter number 2\")\n",
    "n3 = input(\"enter number 3\")\n",
    "\n",
    "if n1 > n2 and n1 > n3:\n",
    "    print(n1,\"is the greatest\")\n",
    "elif n2>n3:\n",
    "    print(n2,\"is the greatest\")\n",
    "else:\n",
    "    print(n3,\" is the greatest\")\n"
   ]
  },
  {
   "cell_type": "code",
   "execution_count": 16,
   "metadata": {},
   "outputs": [
    {
     "name": "stdout",
     "output_type": "stream",
     "text": [
      "enter number year2004\n",
      "2004 is the leap year\n"
     ]
    }
   ],
   "source": [
    "#check a year is an leap year\n",
    "\n",
    "n1 = int(input(\"enter number year\"))\n",
    "\n",
    "if n1 % 400 == 0 and n1 % 100 == 0 or n1 % 4 ==0:\n",
    "    print(n1,\"is the leap year\")\n",
    "else:\n",
    "    print(n1,\"not a leap year\")\n",
    " \n",
    "\n"
   ]
  },
  {
   "cell_type": "code",
   "execution_count": 22,
   "metadata": {},
   "outputs": [
    {
     "name": "stdout",
     "output_type": "stream",
     "text": [
      "enter a number1234\n"
     ]
    },
    {
     "data": {
      "text/plain": [
       "4"
      ]
     },
     "execution_count": 22,
     "metadata": {},
     "output_type": "execute_result"
    }
   ],
   "source": [
    "# caluclate the number of digits in a number\n",
    "\n",
    "n1 = int(input(\"enter a number\"))\n",
    "len(str(n1))\n",
    "\n",
    "\n",
    "\n",
    "\n"
   ]
  },
  {
   "cell_type": "code",
   "execution_count": 17,
   "metadata": {},
   "outputs": [
    {
     "name": "stdout",
     "output_type": "stream",
     "text": [
      "enter a number100\n",
      "100 is a factor of 10\n"
     ]
    }
   ],
   "source": [
    "# check is a number is a factor of 10\n",
    "\n",
    "n1 = int(input(\"enter a number\"))\n",
    "\n",
    "if n1 % 10 == 0:\n",
    "    print(n1, \"is a factor of 10\")\n",
    "else:\n",
    "    print(n1, \"is not a factor of 10\")\n",
    "\n"
   ]
  },
  {
   "cell_type": "code",
   "execution_count": 19,
   "metadata": {},
   "outputs": [
    {
     "name": "stdout",
     "output_type": "stream",
     "text": [
      "enter a number8900\n",
      "8900 is a factor of 100\n"
     ]
    }
   ],
   "source": [
    "# check is a number is a factor of 100\n",
    "\n",
    "n1 = int(input(\"enter a number\"))\n",
    "\n",
    "if n1 % 100 == 0:\n",
    "    print(n1, \"is a factor of 100\")\n",
    "else:\n",
    "    print(n1, \"is not a factor of 100\")"
   ]
  },
  {
   "cell_type": "code",
   "execution_count": 23,
   "metadata": {},
   "outputs": [
    {
     "name": "stdout",
     "output_type": "stream",
     "text": [
      "1234 is equal to 1234\n"
     ]
    }
   ],
   "source": [
    "# check the given string is equal to a number\n",
    "\n",
    "s1 =\"1234\"\n",
    "n1 = 1234\n",
    "if str(n1) == s1:\n",
    "    print(n1, \"is equal to\", s1)\n",
    "else:\n",
    "    print(n1, \"is not equal to\", s1)\n",
    "        \n",
    "        "
   ]
  },
  {
   "cell_type": "code",
   "execution_count": 29,
   "metadata": {},
   "outputs": [
    {
     "name": "stdout",
     "output_type": "stream",
     "text": [
      "enter a number12\n",
      "enter a number10\n",
      "enter a number20\n",
      "12 is in range\n"
     ]
    }
   ],
   "source": [
    "#check the given number in a given range\n",
    "\n",
    "n1=int(input(\"enter a number\"))\n",
    "lb=int(input(\"enter a number\"))\n",
    "up=int(input(\"enter a number\"))\n",
    "if n1 >= lb and n1 <= up:\n",
    "    print(n1,\"is in range\")\n",
    "else:\n",
    "    print(n1,\" is not in range\")\n"
   ]
  },
  {
   "cell_type": "code",
   "execution_count": 26,
   "metadata": {},
   "outputs": [
    {
     "data": {
      "text/plain": [
       "10.954451150103322"
      ]
     },
     "execution_count": 26,
     "metadata": {},
     "output_type": "execute_result"
    }
   ],
   "source": [
    "Caluclate the square root of anumber without functions\n",
    "\n",
    "n1=120\n",
    "n1**0.5\n"
   ]
  },
  {
   "cell_type": "code",
   "execution_count": 27,
   "metadata": {},
   "outputs": [
    {
     "name": "stdout",
     "output_type": "stream",
     "text": [
      "31622400000000000\n"
     ]
    }
   ],
   "source": [
    "# caluclate the number of nano seconds in a given year(leap year logic)\n",
    "\n",
    "year = 2016\n",
    "if n1 % 400 == 0 and n1 % 100 == 0 or n1 % 4 ==0:\n",
    "    print(366 * 24 * 60 * 60 * (10**9))\n",
    "else:\n",
    "    print(365 * 24 * 60 * 60 * (10**9))\n",
    " \n"
   ]
  },
  {
   "cell_type": "code",
   "execution_count": 8,
   "metadata": {},
   "outputs": [
    {
     "name": "stdout",
     "output_type": "stream",
     "text": [
      "how\n",
      "how are youhow are you\n"
     ]
    },
    {
     "ename": "TypeError",
     "evalue": "unsupported operand type(s) for ** or pow(): 'type' and 'int'",
     "output_type": "error",
     "traceback": [
      "\u001b[1;31m---------------------------------------------------------------------------\u001b[0m",
      "\u001b[1;31mTypeError\u001b[0m                                 Traceback (most recent call last)",
      "\u001b[1;32m<ipython-input-8-1a7ce06806c5>\u001b[0m in \u001b[0;36m<module>\u001b[1;34m\u001b[0m\n\u001b[0;32m      4\u001b[0m \u001b[0mprint\u001b[0m\u001b[1;33m(\u001b[0m\u001b[0mstr2\u001b[0m\u001b[1;33m[\u001b[0m\u001b[1;36m0\u001b[0m\u001b[1;33m:\u001b[0m\u001b[1;36m3\u001b[0m\u001b[1;33m]\u001b[0m\u001b[1;33m)\u001b[0m\u001b[1;33m\u001b[0m\u001b[1;33m\u001b[0m\u001b[0m\n\u001b[0;32m      5\u001b[0m \u001b[0mprint\u001b[0m\u001b[1;33m(\u001b[0m\u001b[0mstr2\u001b[0m\u001b[1;33m*\u001b[0m\u001b[1;36m2\u001b[0m\u001b[1;33m)\u001b[0m\u001b[1;33m\u001b[0m\u001b[1;33m\u001b[0m\u001b[0m\n\u001b[1;32m----> 6\u001b[1;33m \u001b[0mprint\u001b[0m\u001b[1;33m(\u001b[0m\u001b[0mstr\u001b[0m\u001b[1;33m**\u001b[0m\u001b[1;36m2\u001b[0m\u001b[1;33m)\u001b[0m\u001b[1;33m\u001b[0m\u001b[1;33m\u001b[0m\u001b[0m\n\u001b[0m",
      "\u001b[1;31mTypeError\u001b[0m: unsupported operand type(s) for ** or pow(): 'type' and 'int'"
     ]
    }
   ],
   "source": [
    "str1 = 'hello javatpoint' \n",
    "str2 = 'how are you' \n",
    "\n",
    "print(str2[0:3])\n",
    "print(str2*2)\n"
   ]
  },
  {
   "cell_type": "code",
   "execution_count": null,
   "metadata": {},
   "outputs": [],
   "source": []
  }
 ],
 "metadata": {
  "kernelspec": {
   "display_name": "Python 3",
   "language": "python",
   "name": "python3"
  },
  "language_info": {
   "codemirror_mode": {
    "name": "ipython",
    "version": 3
   },
   "file_extension": ".py",
   "mimetype": "text/x-python",
   "name": "python",
   "nbconvert_exporter": "python",
   "pygments_lexer": "ipython3",
   "version": "3.7.3"
  }
 },
 "nbformat": 4,
 "nbformat_minor": 2
}
