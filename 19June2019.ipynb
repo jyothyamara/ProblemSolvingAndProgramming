{
 "cells": [
  {
   "cell_type": "markdown",
   "metadata": {},
   "source": [
    "### Factors"
   ]
  },
  {
   "cell_type": "code",
   "execution_count": 1,
   "metadata": {},
   "outputs": [
    {
     "name": "stdout",
     "output_type": "stream",
     "text": [
      "1\n",
      "2\n",
      "4\n",
      "8\n",
      "16\n",
      "32\n",
      "6\n"
     ]
    }
   ],
   "source": [
    "def factors(num):\n",
    "    count = 0\n",
    "    for i in range(1, num+1):\n",
    "        if num % i == 0:\n",
    "            print (i)\n",
    "            count = count + 1\n",
    "    print(count)\n",
    "factors(32)\n",
    "        "
   ]
  },
  {
   "cell_type": "markdown",
   "metadata": {},
   "source": [
    "### Factoraial Number"
   ]
  },
  {
   "cell_type": "code",
   "execution_count": 3,
   "metadata": {},
   "outputs": [
    {
     "data": {
      "text/plain": [
       "120"
      ]
     },
     "execution_count": 3,
     "metadata": {},
     "output_type": "execute_result"
    }
   ],
   "source": [
    "def factorialNumbers(n):\n",
    "    if n == 0 or n == 1:\n",
    "        return 1\n",
    "    else:\n",
    "        return n*factorialNumbers(n-1)\n",
    "    \n",
    "factorialNumbers(5)"
   ]
  },
  {
   "cell_type": "markdown",
   "metadata": {},
   "source": [
    "### Prime Numbers"
   ]
  },
  {
   "cell_type": "code",
   "execution_count": null,
   "metadata": {},
   "outputs": [],
   "source": [
    "def isCheck(n):\n",
    "    if n > 1:\n",
    "        for i in range(2, n):\n",
    "            if (n % i == 0):\n",
    "                print(\"it is not a prime number\")\n",
    "                break\n",
    "                \n",
    "        else:\n",
    "            print(\"it ts a prime number\")\n",
    "            \n",
    "isCheck(5)        "
   ]
  },
  {
   "cell_type": "code",
   "execution_count": 4,
   "metadata": {},
   "outputs": [
    {
     "name": "stdout",
     "output_type": "stream",
     "text": [
      "LLRDDR\n",
      "L\n",
      "-1\n",
      "L\n",
      "-2\n",
      "R\n",
      "-1\n",
      "R\n",
      "0\n",
      "0 -2\n"
     ]
    }
   ],
   "source": [
    "def maze(n):\n",
    "    xaxis = 0\n",
    "    yaxis = 0\n",
    "    for i in n:\n",
    "        if i == 'L':\n",
    "            print(i)\n",
    "            xaxis = xaxis - 1\n",
    "            print(xaxis)\n",
    "        elif i == 'R':\n",
    "            print(i)\n",
    "            xaxis = xaxis + 1\n",
    "            print(xaxis)\n",
    "        elif i == 'U':\n",
    "            yaxis = yaxis + 1\n",
    "        else:\n",
    "            yaxis = yaxis - 1\n",
    "    print(xaxis, yaxis)\n",
    "        \n",
    "n = input()\n",
    "maze(n)"
   ]
  },
  {
   "cell_type": "code",
   "execution_count": 3,
   "metadata": {},
   "outputs": [
    {
     "name": "stdout",
     "output_type": "stream",
     "text": [
      "19\n",
      "Motu\n"
     ]
    }
   ],
   "source": [
    "def bricks(n):\n",
    "    count = 0\n",
    "    patlu = 0\n",
    "    motu = 0\n",
    "    for i in range(1, n+1):\n",
    "        if count<n:\n",
    "            patlu = patlu+i\n",
    "            count = count+1\n",
    "            if count >= n:\n",
    "                print(\"Patlu\")\n",
    "                break\n",
    "            else:\n",
    "                motu=i*2\n",
    "                count = count+motu\n",
    "                if count>=n:\n",
    "                    print(\"Motu\")\n",
    "                    break\n",
    "n = int(input())\n",
    "bricks(n)"
   ]
  },
  {
   "cell_type": "code",
   "execution_count": null,
   "metadata": {},
   "outputs": [],
   "source": []
  },
  {
   "cell_type": "code",
   "execution_count": null,
   "metadata": {},
   "outputs": [],
   "source": []
  }
 ],
 "metadata": {
  "kernelspec": {
   "display_name": "Python 3",
   "language": "python",
   "name": "python3"
  },
  "language_info": {
   "codemirror_mode": {
    "name": "ipython",
    "version": 3
   },
   "file_extension": ".py",
   "mimetype": "text/x-python",
   "name": "python",
   "nbconvert_exporter": "python",
   "pygments_lexer": "ipython3",
   "version": "3.7.3"
  }
 },
 "nbformat": 4,
 "nbformat_minor": 2
}
